{
 "cells": [
  {
   "cell_type": "markdown",
   "id": "f5cfebb2",
   "metadata": {},
   "source": [
    "SERIES EN PANDAS"
   ]
  },
  {
   "cell_type": "code",
   "execution_count": 1,
   "id": "ed9dad6a",
   "metadata": {},
   "outputs": [],
   "source": [
    "import pandas as pd\n",
    "import numpy as np"
   ]
  },
  {
   "cell_type": "code",
   "execution_count": 2,
   "id": "0509dff9",
   "metadata": {},
   "outputs": [
    {
     "name": "stdout",
     "output_type": "stream",
     "text": [
      "serie a partir de una lista:\n",
      "0    10\n",
      "1    20\n",
      "2    30\n",
      "3    40\n",
      "4    50\n",
      "dtype: int64\n",
      "\n",
      " Tipo de dato: int64\n",
      "\n",
      " Tipo de dato: <class 'pandas.core.series.Series'>\n"
     ]
    }
   ],
   "source": [
    "# a partir de una lista\n",
    "lista = [10, 20, 30, 40, 50]\n",
    "serie = pd.Series(lista)\n",
    "print('serie a partir de una lista:')\n",
    "print(serie)\n",
    "print('\\n Tipo de dato:', serie.dtype)\n",
    "print('\\n Tipo de dato:', type(serie))\n"
   ]
  },
  {
   "cell_type": "code",
   "execution_count": 3,
   "id": "fd1fac99",
   "metadata": {},
   "outputs": [
    {
     "name": "stdout",
     "output_type": "stream",
     "text": [
      "\n",
      "serie con indices personalizados:\n",
      "a    10\n",
      "b    20\n",
      "c    30\n",
      "d    40\n",
      "e    50\n",
      "dtype: int64\n"
     ]
    }
   ],
   "source": [
    "# indices personalizados\n",
    "serie_personalizada = pd.Series([10,20,30,40,50],index=['a', 'b', 'c', 'd', 'e'])\n",
    "print('\\nserie con indices personalizados:')\n",
    "print(serie_personalizada)"
   ]
  },
  {
   "cell_type": "code",
   "execution_count": 4,
   "id": "e80b9207",
   "metadata": {},
   "outputs": [
    {
     "name": "stdout",
     "output_type": "stream",
     "text": [
      "\n",
      "serie a partir de un diccionario:\n",
      "a    10\n",
      "b    20\n",
      "c    30\n",
      "d    40\n",
      "e    50\n",
      "dtype: int64\n"
     ]
    }
   ],
   "source": [
    "# a partir de un diccionario\n",
    "diccionario = {'a': 10, 'b': 20, 'c': 30, 'd': 40, 'e': 50}\n",
    "serie_diccionario = pd.Series(diccionario)\n",
    "print('\\nserie a partir de un diccionario:')\n",
    "print(serie_diccionario)    "
   ]
  },
  {
   "cell_type": "markdown",
   "id": "34791934",
   "metadata": {},
   "source": [
    "ACCESO A DATOS DE UNA SERIE"
   ]
  },
  {
   "cell_type": "code",
   "execution_count": 5,
   "id": "13647258",
   "metadata": {},
   "outputs": [
    {
     "name": "stdout",
     "output_type": "stream",
     "text": [
      "serie \n",
      "a    10\n",
      "b    20\n",
      "c    30\n",
      "d    40\n",
      "e    50\n",
      "dtype: int64\n",
      "\n",
      "primer elemento: \n",
      "10\n",
      "\n",
      "Elementos del 1 al 3: \n",
      "1    20\n",
      "2    30\n",
      "dtype: int64\n"
     ]
    }
   ],
   "source": [
    "# por posicion (como en numpy)\n",
    "print(f'serie \\n{serie_personalizada}\\n\\nprimer elemento: \\n{serie[0]}')\n",
    "print(f'\\nElementos del 1 al 3: \\n{serie[1:3]}')\n"
   ]
  },
  {
   "cell_type": "code",
   "execution_count": 6,
   "id": "9de9b276",
   "metadata": {},
   "outputs": [
    {
     "name": "stdout",
     "output_type": "stream",
     "text": [
      "\n",
      "Elementos del 1 al 3: \n",
      "b    20\n",
      "c    30\n",
      "d    40\n",
      "dtype: int64\n"
     ]
    }
   ],
   "source": [
    "#por etiquetas\n",
    "print(f'\\nElementos del 1 al 3: \\n{serie_personalizada[\"b\":\"d\"]}')\n"
   ]
  },
  {
   "cell_type": "markdown",
   "id": "4338ce04",
   "metadata": {},
   "source": [
    "OPERACIONES CON SERIES"
   ]
  },
  {
   "cell_type": "code",
   "execution_count": 7,
   "id": "e09dc745",
   "metadata": {},
   "outputs": [
    {
     "name": "stdout",
     "output_type": "stream",
     "text": [
      "serie original:\n",
      "0    10\n",
      "1    20\n",
      "2    30\n",
      "3    40\n",
      "4    50\n",
      "dtype: int64\n",
      "\n",
      " serie * 2: \n",
      "0     20\n",
      "1     40\n",
      "2     60\n",
      "3     80\n",
      "4    100\n",
      "dtype: int64\n",
      "\n",
      " serie + 5: \n",
      "0    15\n",
      "1    25\n",
      "2    35\n",
      "3    45\n",
      "4    55\n",
      "dtype: int64\n"
     ]
    }
   ],
   "source": [
    "# operaciones aritméticas\n",
    "print(f'serie original:\\n{serie}')\n",
    "print(f'\\n serie * 2: \\n{serie * 2}')\n",
    "print(f'\\n serie + 5: \\n{serie + 5}')"
   ]
  },
  {
   "cell_type": "code",
   "execution_count": 8,
   "id": "fbbaf9c7",
   "metadata": {},
   "outputs": [
    {
     "name": "stdout",
     "output_type": "stream",
     "text": [
      "\n",
      " serie_1:\n",
      "0    1\n",
      "1    2\n",
      "2    3\n",
      "3    4\n",
      "4    5\n",
      "dtype: int64\n",
      "\n",
      " serie_2:\n",
      "0    10\n",
      "1    20\n",
      "2    30\n",
      "3    40\n",
      "4    50\n",
      "dtype: int64\n",
      "\n",
      " serie 1 + serie 2:\n",
      "0    11\n",
      "1    22\n",
      "2    33\n",
      "3    44\n",
      "4    55\n",
      "dtype: int64\n"
     ]
    }
   ],
   "source": [
    "# operaciones entre series\n",
    "serie_1 = pd.Series([1,2,3,4,5])\n",
    "serie_2 = pd.Series([10,20,30,40,50])\n",
    "print(f'\\n serie_1:\\n{serie_1}')\n",
    "print(f'\\n serie_2:\\n{serie_2}')\n",
    "print(f'\\n serie 1 + serie 2:\\n{serie_1 + serie_2}')\n"
   ]
  },
  {
   "cell_type": "code",
   "execution_count": 9,
   "id": "f8e4520c",
   "metadata": {},
   "outputs": [
    {
     "name": "stdout",
     "output_type": "stream",
     "text": [
      "\n",
      " serie_a:\n",
      "a    1\n",
      "b    2\n",
      "c    3\n",
      "dtype: int64\n",
      "\n",
      " serie_b:\n",
      "b    10\n",
      "c    20\n",
      "d    30\n",
      "e    40\n",
      "dtype: int64\n",
      "\n",
      " serie_a + serie_b:\n",
      "a     NaN\n",
      "b    12.0\n",
      "c    23.0\n",
      "d     NaN\n",
      "e     NaN\n",
      "dtype: float64\n"
     ]
    }
   ],
   "source": [
    "#alineamiento automático de índices\n",
    "serie_a = pd.Series([1,2,3], index=['a', 'b', 'c'])\n",
    "serie_b = pd.Series([10,20,30,40], index=['b', 'c', 'd','e'])\n",
    "print(f'\\n serie_a:\\n{serie_a}')\n",
    "print(f'\\n serie_b:\\n{serie_b}')\n",
    "print(f'\\n serie_a + serie_b:\\n{serie_a + serie_b}')"
   ]
  },
  {
   "cell_type": "markdown",
   "id": "2a64cded",
   "metadata": {},
   "source": [
    "MÉTODOS ÚTILES PARA SERIES"
   ]
  },
  {
   "cell_type": "code",
   "execution_count": 11,
   "id": "366ed931",
   "metadata": {},
   "outputs": [
    {
     "name": "stdout",
     "output_type": "stream",
     "text": [
      "\n",
      " media de serie 0    10\n",
      "1    20\n",
      "2    30\n",
      "3    40\n",
      "4    50\n",
      "dtype: int64: 30.0\n",
      "\n",
      " maximo 0    10\n",
      "1    20\n",
      "2    30\n",
      "3    40\n",
      "4    50\n",
      "dtype: int64: 50\n",
      "\n",
      " minimo 0    10\n",
      "1    20\n",
      "2    30\n",
      "3    40\n",
      "4    50\n",
      "dtype: int64: 10\n",
      "\n",
      " resumen0    10\n",
      "1    20\n",
      "2    30\n",
      "3    40\n",
      "4    50\n",
      "dtype: int64: count     5.000000\n",
      "mean     30.000000\n",
      "std      15.811388\n",
      "min      10.000000\n",
      "25%      20.000000\n",
      "50%      30.000000\n",
      "75%      40.000000\n",
      "max      50.000000\n",
      "dtype: float64\n"
     ]
    }
   ],
   "source": [
    "# Estadísticas\n",
    "print(f'\\n media de serie {serie}: {serie.mean()}')\n",
    "print(f'\\n maximo {serie}: {serie.max()}')\n",
    "print(f'\\n minimo {serie}: {serie.min()}')\n",
    "print(f'\\n resumen{serie}: {serie.describe()}')\n"
   ]
  },
  {
   "cell_type": "code",
   "execution_count": 21,
   "id": "f4d88173",
   "metadata": {},
   "outputs": [
    {
     "name": "stdout",
     "output_type": "stream",
     "text": [
      "\n",
      " serie con NaN:\n",
      "0    1.0\n",
      "1    2.0\n",
      "2    NaN\n",
      "3    4.0\n",
      "4    5.0\n",
      "5    NaN\n",
      "dtype: float64\n",
      "\n",
      " is null: \n",
      "0    False\n",
      "1    False\n",
      "2     True\n",
      "3    False\n",
      "4    False\n",
      "5     True\n",
      "dtype: bool\n",
      "\n",
      " is not null: \n",
      "0     True\n",
      "1     True\n",
      "2    False\n",
      "3     True\n",
      "4     True\n",
      "5    False\n",
      "dtype: bool\n",
      "\n",
      " suma de NaN: 2\n"
     ]
    }
   ],
   "source": [
    "#valores nulos\n",
    "serie_nan = pd.Series([1,2,np.nan,4,5, np.nan]) \n",
    "print(f'\\n serie con NaN:\\n{serie_nan}')\n",
    "print(f'\\n is null: \\n{serie_nan.isnull()}')\n",
    "print(f'\\n is not null: \\n{serie_nan.notnull()}')\n",
    "print(f'\\n suma de NaN: {serie_nan.isnull().sum()}')"
   ]
  },
  {
   "cell_type": "markdown",
   "id": "0508e4b5",
   "metadata": {},
   "source": [
    "DATAFRAMES EN PANDAS"
   ]
  },
  {
   "cell_type": "code",
   "execution_count": 25,
   "id": "4beba45b",
   "metadata": {},
   "outputs": [
    {
     "name": "stdout",
     "output_type": "stream",
     "text": [
      "\n",
      " DataFrame:\n",
      "  nombre  edad     ciudad\n",
      "0   Juan    28     Madrid\n",
      "1    Ana    22  Barcelona\n",
      "2  Pedro    35   Valencia\n",
      "3  Maria    30    Sevilla\n"
     ]
    }
   ],
   "source": [
    "# creando un dataframe\n",
    "data = {\n",
    "    'nombre': ['Juan', 'Ana', 'Pedro', 'Maria'],\n",
    "    'edad': [28, 22, 35, 30],\n",
    "    'ciudad': ['Madrid', 'Barcelona', 'Valencia', 'Sevilla']\n",
    "}\n",
    "\n",
    "df = pd.DataFrame(data)\n",
    "print(f'\\n DataFrame:\\n{df}')\n"
   ]
  },
  {
   "cell_type": "markdown",
   "id": "866e9db8",
   "metadata": {},
   "source": [
    "FORMAS DE CREACION DE DATAFRAMES\n",
    "\n",
    "- lista de diccionarios\n",
    "- array de numpy\n",
    "- archivo CSV, Excel, SQL, etc"
   ]
  },
  {
   "cell_type": "code",
   "execution_count": 27,
   "id": "598375c6",
   "metadata": {},
   "outputs": [
    {
     "name": "stdout",
     "output_type": "stream",
     "text": [
      "\n",
      " DataFrame a partir de una lista de diccionarios:\n",
      "  nombre  edad     ciudad\n",
      "0   Juan    28     Madrid\n",
      "1    Ana    22  Barcelona\n",
      "2  Pedro    35   Valencia\n",
      "3  Maria    30    Sevilla\n"
     ]
    }
   ],
   "source": [
    "# Lista de diccionarios\n",
    "\n",
    "lista_dict = [\n",
    "    {'nombre': 'Juan', 'edad': 28, 'ciudad': 'Madrid'},\n",
    "    {'nombre': 'Ana', 'edad': 22, 'ciudad': 'Barcelona'},\n",
    "    {'nombre': 'Pedro', 'edad': 35, 'ciudad': 'Valencia'},\n",
    "    {'nombre': 'Maria', 'edad': 30, 'ciudad': 'Sevilla'}\n",
    "]\n",
    "\n",
    "df_lista_dict = pd.DataFrame(lista_dict) \n",
    "print(f'\\n DataFrame a partir de una lista de diccionarios:\\n{df_lista_dict}')"
   ]
  },
  {
   "cell_type": "code",
   "execution_count": 28,
   "id": "eec12d25",
   "metadata": {},
   "outputs": [
    {
     "name": "stdout",
     "output_type": "stream",
     "text": [
      "\n",
      " DataFrame a partir de un diccionario de listas:\n",
      "  nombre  edad     ciudad\n",
      "0   Juan    28     Madrid\n",
      "1    Ana    22  Barcelona\n",
      "2  Pedro    35   Valencia\n",
      "3  Maria    30    Sevilla\n"
     ]
    }
   ],
   "source": [
    "# diccionario de listas\n",
    "diccionario_listas = {\n",
    "    'nombre': ['Juan', 'Ana', 'Pedro', 'Maria'],\n",
    "    'edad': [28, 22, 35, 30],\n",
    "    'ciudad': ['Madrid', 'Barcelona', 'Valencia', 'Sevilla']\n",
    "}\n",
    "df_diccionario_listas = pd.DataFrame(diccionario_listas)\n",
    "print(f'\\n DataFrame a partir de un diccionario de listas:\\n{df_diccionario_listas}')\n"
   ]
  },
  {
   "cell_type": "code",
   "execution_count": 31,
   "id": "7e4705ad",
   "metadata": {},
   "outputs": [
    {
     "name": "stdout",
     "output_type": "stream",
     "text": [
      "\n",
      " DataFrame a partir de un array de numpy:\n",
      "    Edad  Calificación  Código Postal\n",
      "0     25            32             27\n",
      "1      4             5              7\n",
      "2  28012         28011          28005\n"
     ]
    }
   ],
   "source": [
    "# array de numpy\n",
    "array_numpy = np.array([\n",
    "    [25, 32, 27],\n",
    "    [4, 5, 7],\n",
    "    [28012, 28011, 28005]\n",
    "])\n",
    "\n",
    "df_array_numpy = pd.DataFrame(array_numpy, columns=['Edad', 'Calificación', 'Código Postal'])\n",
    "print(f'\\n DataFrame a partir de un array de numpy:\\n{df_array_numpy}')"
   ]
  },
  {
   "cell_type": "code",
   "execution_count": 34,
   "id": "001d37b5",
   "metadata": {},
   "outputs": [
    {
     "name": "stdout",
     "output_type": "stream",
     "text": [
      "\n",
      " DataFrame a partir de un archivo CSV:\n",
      "      Region  Producto  Ventas       Fecha\n",
      "Norte      A       100      50  2023-01-01\n",
      "Norte      B       150     100  2023-01-20\n",
      "Sur        A       200     150  2023-01-25\n",
      "Sur        B       250     200  2023-02-05\n",
      "Este       A       300     250  2023-02-10\n"
     ]
    }
   ],
   "source": [
    "# archivo CSV\n",
    "df_csv = pd.read_csv('data_sales.csv')\n",
    "print(f'\\n DataFrame a partir de un archivo CSV:\\n{df_csv.head()}')"
   ]
  },
  {
   "cell_type": "markdown",
   "id": "94149d56",
   "metadata": {},
   "source": [
    "ACCEDER A LOS DATOS DE UN DATAFRAME"
   ]
  },
  {
   "cell_type": "code",
   "execution_count": 37,
   "id": "87eed39f",
   "metadata": {},
   "outputs": [
    {
     "name": "stdout",
     "output_type": "stream",
     "text": [
      "\n",
      " seleccionando una columna:\n",
      "0     Juan\n",
      "1      Ana\n",
      "2    Pedro\n",
      "3    Maria\n",
      "Name: nombre, dtype: object\n",
      "\n",
      " seleccionando varias columnas:\n",
      "  nombre  edad\n",
      "0   Juan    28\n",
      "1    Ana    22\n",
      "2  Pedro    35\n",
      "3  Maria    30\n",
      "\n",
      " seleccionando una columna por su nombre:\n",
      "0     Juan\n",
      "1      Ana\n",
      "2    Pedro\n",
      "3    Maria\n",
      "Name: nombre, dtype: object\n"
     ]
    }
   ],
   "source": [
    "# seleccionar columnas\n",
    "print(f'\\n seleccionando una columna:\\n{df[\"nombre\"]}')\n",
    "print(f'\\n seleccionando varias columnas:\\n{df[[\"nombre\", \"edad\"]]}')\n",
    "print(f'\\n seleccionando una columna por su nombre:\\n{df.nombre}')\n"
   ]
  },
  {
   "cell_type": "code",
   "execution_count": 38,
   "id": "8487f960",
   "metadata": {},
   "outputs": [],
   "source": [
    "#seleccionar filas\n"
   ]
  },
  {
   "cell_type": "code",
   "execution_count": null,
   "id": "4df4b267",
   "metadata": {},
   "outputs": [],
   "source": []
  }
 ],
 "metadata": {
  "kernelspec": {
   "display_name": "p_venv",
   "language": "python",
   "name": "python3"
  },
  "language_info": {
   "codemirror_mode": {
    "name": "ipython",
    "version": 3
   },
   "file_extension": ".py",
   "mimetype": "text/x-python",
   "name": "python",
   "nbconvert_exporter": "python",
   "pygments_lexer": "ipython3",
   "version": "3.12.2"
  }
 },
 "nbformat": 4,
 "nbformat_minor": 5
}
