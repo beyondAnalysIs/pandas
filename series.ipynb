{
 "cells": [
  {
   "cell_type": "markdown",
   "id": "f5cfebb2",
   "metadata": {},
   "source": [
    "SERIES EN PANDAS"
   ]
  },
  {
   "cell_type": "code",
   "execution_count": 1,
   "id": "ed9dad6a",
   "metadata": {},
   "outputs": [],
   "source": [
    "import pandas as pd\n",
    "import numpy as np"
   ]
  },
  {
   "cell_type": "code",
   "execution_count": 2,
   "id": "0509dff9",
   "metadata": {},
   "outputs": [
    {
     "name": "stdout",
     "output_type": "stream",
     "text": [
      "serie a partir de una lista:\n",
      "0    10\n",
      "1    20\n",
      "2    30\n",
      "3    40\n",
      "4    50\n",
      "dtype: int64\n",
      "\n",
      " Tipo de dato: int64\n",
      "\n",
      " Tipo de dato: <class 'pandas.core.series.Series'>\n"
     ]
    }
   ],
   "source": [
    "# a partir de una lista\n",
    "lista = [10, 20, 30, 40, 50]\n",
    "serie = pd.Series(lista)\n",
    "print('serie a partir de una lista:')\n",
    "print(serie)\n",
    "print('\\n Tipo de dato:', serie.dtype)\n",
    "print('\\n Tipo de dato:', type(serie))\n"
   ]
  },
  {
   "cell_type": "code",
   "execution_count": 3,
   "id": "fd1fac99",
   "metadata": {},
   "outputs": [
    {
     "name": "stdout",
     "output_type": "stream",
     "text": [
      "\n",
      "serie con indices personalizados:\n",
      "a    10\n",
      "b    20\n",
      "c    30\n",
      "d    40\n",
      "e    50\n",
      "dtype: int64\n"
     ]
    }
   ],
   "source": [
    "# indices personalizados\n",
    "serie_personalizada = pd.Series([10,20,30,40,50],index=['a', 'b', 'c', 'd', 'e'])\n",
    "print('\\nserie con indices personalizados:')\n",
    "print(serie_personalizada)"
   ]
  },
  {
   "cell_type": "code",
   "execution_count": 4,
   "id": "e80b9207",
   "metadata": {},
   "outputs": [
    {
     "name": "stdout",
     "output_type": "stream",
     "text": [
      "\n",
      "serie a partir de un diccionario:\n",
      "a    10\n",
      "b    20\n",
      "c    30\n",
      "d    40\n",
      "e    50\n",
      "dtype: int64\n"
     ]
    }
   ],
   "source": [
    "# a partir de un diccionario\n",
    "diccionario = {'a': 10, 'b': 20, 'c': 30, 'd': 40, 'e': 50}\n",
    "serie_diccionario = pd.Series(diccionario)\n",
    "print('\\nserie a partir de un diccionario:')\n",
    "print(serie_diccionario)    "
   ]
  },
  {
   "cell_type": "markdown",
   "id": "34791934",
   "metadata": {},
   "source": [
    "ACCESO A DATOS DE UNA SERIE"
   ]
  },
  {
   "cell_type": "code",
   "execution_count": 5,
   "id": "13647258",
   "metadata": {},
   "outputs": [
    {
     "name": "stdout",
     "output_type": "stream",
     "text": [
      "serie \n",
      "a    10\n",
      "b    20\n",
      "c    30\n",
      "d    40\n",
      "e    50\n",
      "dtype: int64\n",
      "\n",
      "primer elemento: \n",
      "10\n",
      "\n",
      "Elementos del 1 al 3: \n",
      "1    20\n",
      "2    30\n",
      "dtype: int64\n"
     ]
    }
   ],
   "source": [
    "# por posicion (como en numpy)\n",
    "print(f'serie \\n{serie_personalizada}\\n\\nprimer elemento: \\n{serie[0]}')\n",
    "print(f'\\nElementos del 1 al 3: \\n{serie[1:3]}')\n"
   ]
  },
  {
   "cell_type": "code",
   "execution_count": 6,
   "id": "9de9b276",
   "metadata": {},
   "outputs": [
    {
     "name": "stdout",
     "output_type": "stream",
     "text": [
      "\n",
      "Elementos del 1 al 3: \n",
      "b    20\n",
      "c    30\n",
      "d    40\n",
      "dtype: int64\n"
     ]
    }
   ],
   "source": [
    "#por etiquetas\n",
    "print(f'\\nElementos del 1 al 3: \\n{serie_personalizada[\"b\":\"d\"]}')\n"
   ]
  },
  {
   "cell_type": "markdown",
   "id": "4338ce04",
   "metadata": {},
   "source": [
    "OPERACIONES CON SERIES"
   ]
  },
  {
   "cell_type": "code",
   "execution_count": 7,
   "id": "e09dc745",
   "metadata": {},
   "outputs": [
    {
     "name": "stdout",
     "output_type": "stream",
     "text": [
      "serie original:\n",
      "0    10\n",
      "1    20\n",
      "2    30\n",
      "3    40\n",
      "4    50\n",
      "dtype: int64\n",
      "\n",
      " serie * 2: \n",
      "0     20\n",
      "1     40\n",
      "2     60\n",
      "3     80\n",
      "4    100\n",
      "dtype: int64\n",
      "\n",
      " serie + 5: \n",
      "0    15\n",
      "1    25\n",
      "2    35\n",
      "3    45\n",
      "4    55\n",
      "dtype: int64\n"
     ]
    }
   ],
   "source": [
    "# operaciones aritméticas\n",
    "print(f'serie original:\\n{serie}')\n",
    "print(f'\\n serie * 2: \\n{serie * 2}')\n",
    "print(f'\\n serie + 5: \\n{serie + 5}')"
   ]
  },
  {
   "cell_type": "code",
   "execution_count": 8,
   "id": "fbbaf9c7",
   "metadata": {},
   "outputs": [
    {
     "name": "stdout",
     "output_type": "stream",
     "text": [
      "\n",
      " serie_1:\n",
      "0    1\n",
      "1    2\n",
      "2    3\n",
      "3    4\n",
      "4    5\n",
      "dtype: int64\n",
      "\n",
      " serie_2:\n",
      "0    10\n",
      "1    20\n",
      "2    30\n",
      "3    40\n",
      "4    50\n",
      "dtype: int64\n",
      "\n",
      " serie 1 + serie 2:\n",
      "0    11\n",
      "1    22\n",
      "2    33\n",
      "3    44\n",
      "4    55\n",
      "dtype: int64\n"
     ]
    }
   ],
   "source": [
    "# operaciones entre series\n",
    "serie_1 = pd.Series([1,2,3,4,5])\n",
    "serie_2 = pd.Series([10,20,30,40,50])\n",
    "print(f'\\n serie_1:\\n{serie_1}')\n",
    "print(f'\\n serie_2:\\n{serie_2}')\n",
    "print(f'\\n serie 1 + serie 2:\\n{serie_1 + serie_2}')\n"
   ]
  },
  {
   "cell_type": "code",
   "execution_count": 9,
   "id": "f8e4520c",
   "metadata": {},
   "outputs": [
    {
     "name": "stdout",
     "output_type": "stream",
     "text": [
      "\n",
      " serie_a:\n",
      "a    1\n",
      "b    2\n",
      "c    3\n",
      "dtype: int64\n",
      "\n",
      " serie_b:\n",
      "b    10\n",
      "c    20\n",
      "d    30\n",
      "e    40\n",
      "dtype: int64\n",
      "\n",
      " serie_a + serie_b:\n",
      "a     NaN\n",
      "b    12.0\n",
      "c    23.0\n",
      "d     NaN\n",
      "e     NaN\n",
      "dtype: float64\n"
     ]
    }
   ],
   "source": [
    "#alineamiento automático de índices\n",
    "serie_a = pd.Series([1,2,3], index=['a', 'b', 'c'])\n",
    "serie_b = pd.Series([10,20,30,40], index=['b', 'c', 'd','e'])\n",
    "print(f'\\n serie_a:\\n{serie_a}')\n",
    "print(f'\\n serie_b:\\n{serie_b}')\n",
    "print(f'\\n serie_a + serie_b:\\n{serie_a + serie_b}')"
   ]
  },
  {
   "cell_type": "markdown",
   "id": "2a64cded",
   "metadata": {},
   "source": [
    "MÉTODOS ÚTILES PARA SERIES"
   ]
  },
  {
   "cell_type": "code",
   "execution_count": 10,
   "id": "366ed931",
   "metadata": {},
   "outputs": [
    {
     "name": "stdout",
     "output_type": "stream",
     "text": [
      "\n",
      " media de serie 0    10\n",
      "1    20\n",
      "2    30\n",
      "3    40\n",
      "4    50\n",
      "dtype: int64: 30.0\n",
      "\n",
      " maximo 0    10\n",
      "1    20\n",
      "2    30\n",
      "3    40\n",
      "4    50\n",
      "dtype: int64: 50\n",
      "\n",
      " minimo 0    10\n",
      "1    20\n",
      "2    30\n",
      "3    40\n",
      "4    50\n",
      "dtype: int64: 10\n",
      "\n",
      " resumen0    10\n",
      "1    20\n",
      "2    30\n",
      "3    40\n",
      "4    50\n",
      "dtype: int64: count     5.000000\n",
      "mean     30.000000\n",
      "std      15.811388\n",
      "min      10.000000\n",
      "25%      20.000000\n",
      "50%      30.000000\n",
      "75%      40.000000\n",
      "max      50.000000\n",
      "dtype: float64\n"
     ]
    }
   ],
   "source": [
    "# Estadísticas\n",
    "print(f'\\n media de serie {serie}: {serie.mean()}')\n",
    "print(f'\\n maximo {serie}: {serie.max()}')\n",
    "print(f'\\n minimo {serie}: {serie.min()}')\n",
    "print(f'\\n resumen{serie}: {serie.describe()}')\n"
   ]
  },
  {
   "cell_type": "code",
   "execution_count": 11,
   "id": "f4d88173",
   "metadata": {},
   "outputs": [
    {
     "name": "stdout",
     "output_type": "stream",
     "text": [
      "\n",
      " serie con NaN:\n",
      "0    1.0\n",
      "1    2.0\n",
      "2    NaN\n",
      "3    4.0\n",
      "4    5.0\n",
      "5    NaN\n",
      "dtype: float64\n",
      "\n",
      " is null: \n",
      "0    False\n",
      "1    False\n",
      "2     True\n",
      "3    False\n",
      "4    False\n",
      "5     True\n",
      "dtype: bool\n",
      "\n",
      " is not null: \n",
      "0     True\n",
      "1     True\n",
      "2    False\n",
      "3     True\n",
      "4     True\n",
      "5    False\n",
      "dtype: bool\n",
      "\n",
      " suma de NaN: 2\n"
     ]
    }
   ],
   "source": [
    "#valores nulos\n",
    "serie_nan = pd.Series([1,2,np.nan,4,5, np.nan]) \n",
    "print(f'\\n serie con NaN:\\n{serie_nan}')\n",
    "print(f'\\n is null: \\n{serie_nan.isnull()}')\n",
    "print(f'\\n is not null: \\n{serie_nan.notnull()}')\n",
    "print(f'\\n suma de NaN: {serie_nan.isnull().sum()}')"
   ]
  },
  {
   "cell_type": "markdown",
   "id": "0508e4b5",
   "metadata": {},
   "source": [
    "DATAFRAMES EN PANDAS"
   ]
  },
  {
   "cell_type": "code",
   "execution_count": 12,
   "id": "4beba45b",
   "metadata": {},
   "outputs": [
    {
     "name": "stdout",
     "output_type": "stream",
     "text": [
      "\n",
      " DataFrame:\n",
      "  nombre  edad     ciudad\n",
      "0   Juan    28     Madrid\n",
      "1    Ana    22  Barcelona\n",
      "2  Pedro    35   Valencia\n",
      "3  Maria    30    Sevilla\n"
     ]
    }
   ],
   "source": [
    "# creando un dataframe\n",
    "data = {\n",
    "    'nombre': ['Juan', 'Ana', 'Pedro', 'Maria'],\n",
    "    'edad': [28, 22, 35, 30],\n",
    "    'ciudad': ['Madrid', 'Barcelona', 'Valencia', 'Sevilla']\n",
    "}\n",
    "\n",
    "df = pd.DataFrame(data)\n",
    "print(f'\\n DataFrame:\\n{df}')\n"
   ]
  },
  {
   "cell_type": "markdown",
   "id": "866e9db8",
   "metadata": {},
   "source": [
    "FORMAS DE CREACION DE DATAFRAMES\n",
    "\n",
    "- lista de diccionarios\n",
    "- array de numpy\n",
    "- archivo CSV, Excel, SQL, etc"
   ]
  },
  {
   "cell_type": "code",
   "execution_count": 13,
   "id": "598375c6",
   "metadata": {},
   "outputs": [
    {
     "name": "stdout",
     "output_type": "stream",
     "text": [
      "\n",
      " DataFrame a partir de una lista de diccionarios:\n",
      "  nombre  edad     ciudad\n",
      "0   Juan    28     Madrid\n",
      "1    Ana    22  Barcelona\n",
      "2  Pedro    35   Valencia\n",
      "3  Maria    30    Sevilla\n"
     ]
    }
   ],
   "source": [
    "# Lista de diccionarios\n",
    "\n",
    "lista_dict = [\n",
    "    {'nombre': 'Juan', 'edad': 28, 'ciudad': 'Madrid'},\n",
    "    {'nombre': 'Ana', 'edad': 22, 'ciudad': 'Barcelona'},\n",
    "    {'nombre': 'Pedro', 'edad': 35, 'ciudad': 'Valencia'},\n",
    "    {'nombre': 'Maria', 'edad': 30, 'ciudad': 'Sevilla'}\n",
    "]\n",
    "\n",
    "df_lista_dict = pd.DataFrame(lista_dict) \n",
    "print(f'\\n DataFrame a partir de una lista de diccionarios:\\n{df_lista_dict}')"
   ]
  },
  {
   "cell_type": "code",
   "execution_count": 14,
   "id": "eec12d25",
   "metadata": {},
   "outputs": [
    {
     "name": "stdout",
     "output_type": "stream",
     "text": [
      "\n",
      " DataFrame a partir de un diccionario de listas:\n",
      "  nombre  edad     ciudad\n",
      "0   Juan    28     Madrid\n",
      "1    Ana    22  Barcelona\n",
      "2  Pedro    35   Valencia\n",
      "3  Maria    30    Sevilla\n"
     ]
    }
   ],
   "source": [
    "# diccionario de listas\n",
    "diccionario_listas = {\n",
    "    'nombre': ['Juan', 'Ana', 'Pedro', 'Maria'],\n",
    "    'edad': [28, 22, 35, 30],\n",
    "    'ciudad': ['Madrid', 'Barcelona', 'Valencia', 'Sevilla']\n",
    "}\n",
    "df_diccionario_listas = pd.DataFrame(diccionario_listas)\n",
    "print(f'\\n DataFrame a partir de un diccionario de listas:\\n{df_diccionario_listas}')\n"
   ]
  },
  {
   "cell_type": "code",
   "execution_count": 15,
   "id": "7e4705ad",
   "metadata": {},
   "outputs": [
    {
     "name": "stdout",
     "output_type": "stream",
     "text": [
      "\n",
      " DataFrame a partir de un array de numpy:\n",
      "    Edad  Calificación  Código Postal\n",
      "0     25            32             27\n",
      "1      4             5              7\n",
      "2  28012         28011          28005\n"
     ]
    }
   ],
   "source": [
    "# array de numpy\n",
    "array_numpy = np.array([\n",
    "    [25, 32, 27],\n",
    "    [4, 5, 7],\n",
    "    [28012, 28011, 28005]\n",
    "])\n",
    "\n",
    "df_array_numpy = pd.DataFrame(array_numpy, columns=['Edad', 'Calificación', 'Código Postal'])\n",
    "print(f'\\n DataFrame a partir de un array de numpy:\\n{df_array_numpy}')"
   ]
  },
  {
   "cell_type": "code",
   "execution_count": 16,
   "id": "001d37b5",
   "metadata": {},
   "outputs": [
    {
     "name": "stdout",
     "output_type": "stream",
     "text": [
      "\n",
      " DataFrame a partir de un archivo CSV:\n",
      "      Region  Producto  Ventas       Fecha\n",
      "Norte      A       100      50  2023-01-01\n",
      "Norte      B       150     100  2023-01-20\n",
      "Sur        A       200     150  2023-01-25\n",
      "Sur        B       250     200  2023-02-05\n",
      "Este       A       300     250  2023-02-10\n"
     ]
    }
   ],
   "source": [
    "# archivo CSV\n",
    "df_csv = pd.read_csv('data_sales.csv')\n",
    "print(f'\\n DataFrame a partir de un archivo CSV:\\n{df_csv.head()}')"
   ]
  },
  {
   "cell_type": "markdown",
   "id": "94149d56",
   "metadata": {},
   "source": [
    "ACCEDER A LOS DATOS DE UN DATAFRAME"
   ]
  },
  {
   "cell_type": "code",
   "execution_count": 17,
   "id": "87eed39f",
   "metadata": {},
   "outputs": [
    {
     "name": "stdout",
     "output_type": "stream",
     "text": [
      "\n",
      " seleccionando una columna:\n",
      "0     Juan\n",
      "1      Ana\n",
      "2    Pedro\n",
      "3    Maria\n",
      "Name: nombre, dtype: object\n",
      "\n",
      " seleccionando varias columnas:\n",
      "  nombre  edad\n",
      "0   Juan    28\n",
      "1    Ana    22\n",
      "2  Pedro    35\n",
      "3  Maria    30\n",
      "\n",
      " seleccionando una columna por su nombre:\n",
      "0     Juan\n",
      "1      Ana\n",
      "2    Pedro\n",
      "3    Maria\n",
      "Name: nombre, dtype: object\n"
     ]
    }
   ],
   "source": [
    "# seleccionar columnas\n",
    "print(f'\\n seleccionando una columna:\\n{df[\"nombre\"]}')\n",
    "print(f'\\n seleccionando varias columnas:\\n{df[[\"nombre\", \"edad\"]]}')\n",
    "print(f'\\n seleccionando una columna por su nombre:\\n{df.nombre}')\n"
   ]
  },
  {
   "cell_type": "code",
   "execution_count": null,
   "id": "8487f960",
   "metadata": {},
   "outputs": [
    {
     "name": "stdout",
     "output_type": "stream",
     "text": [
      "  nombre  edad     ciudad\n",
      "0   Juan    28     Madrid\n",
      "1    Ana    22  Barcelona\n",
      "2  Pedro    35   Valencia\n",
      "3  Maria    30    Sevilla \n",
      "\n",
      "primera fila\n",
      "nombre          Ana\n",
      "edad             22\n",
      "ciudad    Barcelona\n",
      "Name: 1, dtype: object\n",
      "\n",
      "\n",
      "  nombre  edad     ciudad\n",
      "1    Ana    22  Barcelona\n",
      "\n",
      "\n",
      "nombre      Juan\n",
      "edad          28\n",
      "ciudad    Madrid\n",
      "Name: 0, dtype: object\n",
      "\n"
     ]
    }
   ],
   "source": [
    "print(df,'\\n')\n",
    "#seleccionar filas\n",
    "\n",
    "# por posición iloc)\n",
    "print(f'primera fila\\n{df.iloc[1]}\\n')  # primera fila\n",
    "\n",
    "print(f'\\n{df.iloc[1:2]}\\n') # filas de la 1 a la 2 (excluyendo la 2)\n",
    "\n",
    "# por etiqueta loc\n",
    "print(f'\\n{df.loc[0]}\\n')  # primera fila indice 0"
   ]
  },
  {
   "cell_type": "code",
   "execution_count": 45,
   "id": "4df4b267",
   "metadata": {},
   "outputs": [
    {
     "name": "stdout",
     "output_type": "stream",
     "text": [
      "filas por edad > 25:\n",
      "\n",
      "  nombre  edad    ciudad\n",
      "0   Juan    28    Madrid\n",
      "2  Pedro    35  Valencia\n",
      "3  Maria    30   Sevilla\n",
      "\n",
      "Filas donde Edad > 25 y ciudad Barcelona:      \n",
      "  nombre  edad  ciudad\n",
      "0   Juan    28  Madrid\n"
     ]
    }
   ],
   "source": [
    "# condicional\n",
    "print('filas por edad > 25:\\n')\n",
    "print(f'{df[df['edad'] > 25]}\\n')\n",
    "print(f'Filas donde Edad > 25 y ciudad Barcelona:\\\n",
    "      \\n{df[(df[\"edad\"] > 25) & (df[\"ciudad\"] == \"Madrid\")]}')"
   ]
  },
  {
   "cell_type": "markdown",
   "id": "0bd3a7c2",
   "metadata": {},
   "source": [
    "OPERACIONES BÁSICAS CON DATAFRAMES"
   ]
  },
  {
   "cell_type": "code",
   "execution_count": 51,
   "id": "d642c106",
   "metadata": {},
   "outputs": [
    {
     "name": "stdout",
     "output_type": "stream",
     "text": [
      "\n",
      " DataFrame con nueva columna:\n",
      "  nombre  edad     ciudad  salario  salario_mensual\n",
      "0   Juan    28     Madrid    30000      2500.000000\n",
      "1    Ana    22  Barcelona    25000      2083.333333\n",
      "2  Pedro    35   Valencia    40000      3333.333333\n",
      "3  Maria    30    Sevilla    35000      2916.666667\n"
     ]
    }
   ],
   "source": [
    "# añadir una nueva columna\n",
    "df['salario'] = [30000, 25000, 40000, 35000]\n",
    "\n",
    "#columna calculada\n",
    "df['salario_mensual'] = df['salario'] / 12\n",
    "\n",
    "print(f'\\n DataFrame con nueva columna:\\n{df}')"
   ]
  },
  {
   "cell_type": "code",
   "execution_count": 57,
   "id": "82ab10d7",
   "metadata": {},
   "outputs": [
    {
     "name": "stdout",
     "output_type": "stream",
     "text": [
      "\n",
      " DataFrame después de eliminar la columna \"salario_mensual\":\n",
      "  nombre  edad     ciudad  salario\n",
      "0   Juan    28     Madrid    30000\n",
      "1    Ana    22  Barcelona    25000\n",
      "2  Pedro    35   Valencia    40000\n",
      "3  Maria    30    Sevilla    35000\n",
      "\n",
      "\n",
      " DataFrame después de eliminar la fila con índice 0:\n",
      "  nombre  edad     ciudad  salario  salario_mensual\n",
      "1    Ana    22  Barcelona    25000      2083.333333\n",
      "2  Pedro    35   Valencia    40000      3333.333333\n",
      "3  Maria    30    Sevilla    35000      2916.666667\n",
      "\n"
     ]
    }
   ],
   "source": [
    "# eliminar columnas o filas \n",
    "# eliminar una columna\n",
    "df_temp = df.drop(columns=['salario_mensual'], axis = 1)\n",
    "print(f'\\n DataFrame después de eliminar la columna \"salario_mensual\":\\n{df_temp}\\n')\n",
    "\n",
    "# eliminar una fila\n",
    "df_temp = df.drop(index=0, axis=0)  # elimina la fila con índice 0\n",
    "print(f'\\n DataFrame después de eliminar la fila con índice 0:\\n{df_temp}\\n')\n"
   ]
  },
  {
   "cell_type": "code",
   "execution_count": 58,
   "id": "fe989d81",
   "metadata": {},
   "outputs": [
    {
     "name": "stdout",
     "output_type": "stream",
     "text": [
      "\n",
      " DataFrame con valores nulos:\n",
      "     A    B   C\n",
      "0  1.0  5.0   9\n",
      "1  2.0  NaN  10\n",
      "2  NaN  NaN  11\n",
      "3  4.0  8.0  12\n",
      "\n"
     ]
    }
   ],
   "source": [
    "# creamos una datafrae con valores nulos\n",
    "data_null = {\n",
    "    'A': [1, 2, np.nan, 4],\n",
    "    'B': [5, np.nan, np.nan, 8],\n",
    "    'C': [9, 10, 11, 12]\n",
    "} \n",
    "\n",
    "df_null = pd.DataFrame(data_null)\n",
    "print(f'\\n DataFrame con valores nulos:\\n{df_null}\\n')\n"
   ]
  },
  {
   "cell_type": "code",
   "execution_count": 62,
   "id": "8700c559",
   "metadata": {},
   "outputs": [
    {
     "name": "stdout",
     "output_type": "stream",
     "text": [
      "\n",
      " Valores nulos:\n",
      "       A      B      C\n",
      "0  False  False  False\n",
      "1  False   True  False\n",
      "2   True   True  False\n",
      "3  False  False  False\n",
      "\n",
      "total de valores nulos: \n",
      "A    1\n",
      "B    2\n",
      "C    0\n",
      "dtype: int64\n",
      "\n"
     ]
    }
   ],
   "source": [
    "# verificamos valores faltantes\n",
    "print(f'\\n Valores nulos:\\n{df_null.isnull()}\\n')\n",
    "\n",
    "# contar valores nulos\n",
    "print(f'total de valores nulos: \\n{df_null.isnull().sum()}\\n')"
   ]
  },
  {
   "cell_type": "code",
   "execution_count": 63,
   "id": "14175579",
   "metadata": {},
   "outputs": [
    {
     "name": "stdout",
     "output_type": "stream",
     "text": [
      "\n",
      " DataFrame sin filas con valores nulos:\n",
      "     A    B   C\n",
      "0  1.0  5.0   9\n",
      "3  4.0  8.0  12\n",
      "\n"
     ]
    }
   ],
   "source": [
    "\n",
    "#eliminar filas con valores nulos\n",
    "df_sin_nulos = df_null.dropna()\n",
    "print(f'\\n DataFrame sin filas con valores nulos:\\n{df_sin_nulos}\\n')"
   ]
  },
  {
   "cell_type": "code",
   "execution_count": 68,
   "id": "5a1041ff",
   "metadata": {},
   "outputs": [
    {
     "name": "stdout",
     "output_type": "stream",
     "text": [
      "\n",
      " DataFrame con valores nulos rellenados con 0:\n",
      "          A    B   C\n",
      "0  1.000000  5.0   9\n",
      "1  2.000000  0.0  10\n",
      "2  2.333333  0.0  11\n",
      "3  4.000000  8.0  12\n",
      "\n",
      "\n",
      " DataFrame con valores nulos rellenados con la media:    \n",
      "          A    B   C\n",
      "0  1.000000  5.0   9\n",
      "1  2.000000  6.5  10\n",
      "2  2.333333  6.5  11\n",
      "3  4.000000  8.0  12\n",
      "\n"
     ]
    },
    {
     "data": {
      "text/plain": [
       "0    1.000000\n",
       "1    2.000000\n",
       "2    2.333333\n",
       "3    4.000000\n",
       "Name: A, dtype: float64"
      ]
     },
     "execution_count": 68,
     "metadata": {},
     "output_type": "execute_result"
    }
   ],
   "source": [
    "#rellenar valores nulos con un valor específico\n",
    "df_relleno = df_null.fillna(0)\n",
    "print(f'\\n DataFrame con valores nulos rellenados con 0:\\n{df_relleno}\\n')\n",
    "\n",
    "print(f'\\n DataFrame con valores nulos rellenados con la media:\\\n",
    "    \\n{df_null.fillna(df_null.mean().round(2))}\\n')\n",
    "\n",
    "# usando la media de la columna A\n",
    "df_null['A'].fillna(df_null['A'].mean())\n"
   ]
  },
  {
   "cell_type": "markdown",
   "id": "e254ccb3",
   "metadata": {},
   "source": [
    "CASO PRÁCTICO"
   ]
  },
  {
   "cell_type": "code",
   "execution_count": 70,
   "id": "a15e2c97",
   "metadata": {},
   "outputs": [
    {
     "name": "stdout",
     "output_type": "stream",
     "text": [
      "\n",
      " DataFrame de ventas:\n",
      "  Region Producto  Ventas  Gastos\n",
      "0  Norte        A     100      50\n",
      "1    Sur        B     200      80\n",
      "2   Este        A     150      60\n",
      "3  Oeste        B     300     120\n",
      "4  Norte        C     250     100\n",
      "5    Sur        C     400     150\n",
      "6   Este        A     350     130\n",
      "7  Oeste        B     450     200\n",
      "8  Norte        A     500     180\n",
      "\n"
     ]
    }
   ],
   "source": [
    "# datos de ventas por region y producto\n",
    "ventas_data = {\n",
    "    'Region': ['Norte', 'Sur', 'Este', 'Oeste', 'Norte', 'Sur', \n",
    "               'Este', 'Oeste', 'Norte'],\n",
    "    'Producto': ['A', 'B', 'A', 'B', 'C', 'C', 'A', 'B', 'A'],\n",
    "    'Ventas': [100, 200, 150, 300, 250, 400, 350, 450, 500],\n",
    "    'Gastos': [50, 80, 60, 120, 100, 150, 130, 200, 180]\n",
    "}   \n",
    "\n",
    "df_ventas = pd.DataFrame(ventas_data)\n",
    "print(f'\\n DataFrame de ventas:\\n{df_ventas}\\n')"
   ]
  },
  {
   "cell_type": "code",
   "execution_count": 71,
   "id": "98e3f684",
   "metadata": {},
   "outputs": [
    {
     "name": "stdout",
     "output_type": "stream",
     "text": [
      "\n",
      " DataFrame de ventas con beneficio:\n",
      "  Region Producto  Ventas  Gastos  Beneficio\n",
      "0  Norte        A     100      50         50\n",
      "1    Sur        B     200      80        120\n",
      "2   Este        A     150      60         90\n",
      "3  Oeste        B     300     120        180\n",
      "4  Norte        C     250     100        150\n",
      "5    Sur        C     400     150        250\n",
      "6   Este        A     350     130        220\n",
      "7  Oeste        B     450     200        250\n",
      "8  Norte        A     500     180        320\n",
      "\n"
     ]
    }
   ],
   "source": [
    "# calcular el beneficio\n",
    "df_ventas['Beneficio'] = df_ventas['Ventas']- df_ventas['Gastos']\n",
    "print(f'\\n DataFrame de ventas con beneficio:\\n{df_ventas}\\n')"
   ]
  },
  {
   "cell_type": "code",
   "execution_count": 72,
   "id": "eb4fa863",
   "metadata": {},
   "outputs": [
    {
     "name": "stdout",
     "output_type": "stream",
     "text": [
      "\n",
      " Ventas por región:\n",
      "        Ventas  Gastos  Beneficio\n",
      "Region                           \n",
      "Este       500     190        310\n",
      "Norte      850     330        520\n",
      "Oeste      750     320        430\n",
      "Sur        600     230        370\n",
      "\n"
     ]
    }
   ],
   "source": [
    "# analisis por región\n",
    "ventas_region = df_ventas.groupby('Region')\\\n",
    "    [['Ventas', 'Gastos', 'Beneficio']].sum()\n",
    "print(f'\\n Ventas por región:\\n{ventas_region}\\n')\n",
    "    "
   ]
  },
  {
   "cell_type": "code",
   "execution_count": 76,
   "id": "08fd6e2d",
   "metadata": {},
   "outputs": [
    {
     "name": "stdout",
     "output_type": "stream",
     "text": [
      "\n",
      " Ventas por producto:\n",
      "          Ventas  Gastos  Beneficio\n",
      "Producto                           \n",
      "A           1100     420        680\n",
      "B            950     400        550\n",
      "C            650     250        400\n",
      "\n"
     ]
    }
   ],
   "source": [
    "# analisis por producto\n",
    "ventas_producto = df_ventas.groupby('Producto')\\\n",
    "    [['Ventas', 'Gastos', 'Beneficio']].sum()\n",
    "print(f'\\n Ventas por producto:\\n{ventas_producto}\\n')"
   ]
  },
  {
   "cell_type": "code",
   "execution_count": 78,
   "id": "fed702e7",
   "metadata": {},
   "outputs": [
    {
     "name": "stdout",
     "output_type": "stream",
     "text": [
      "\n",
      " Región con mayor beneficio: Norte\n",
      "\n",
      "\n",
      " Producto con mayor beneficio: A\n",
      "\n"
     ]
    }
   ],
   "source": [
    "# region con mayor beneficio\n",
    "region_max_beneficio = ventas_region['Beneficio'].idxmax()\n",
    "print(f'\\n Región con mayor beneficio: {region_max_beneficio}\\n')\n",
    "\n",
    "#producto con mayor beneficio\n",
    "producto_max_beneficio = ventas_producto['Beneficio'].idxmax()\n",
    "print(f'\\n Producto con mayor beneficio: {producto_max_beneficio}\\n')\n"
   ]
  },
  {
   "cell_type": "code",
   "execution_count": 81,
   "id": "e4b01076",
   "metadata": {},
   "outputs": [
    {
     "data": {
      "image/png": "[encoded data removed]",
      "text/plain": [
       "<Figure size 1000x600 with 1 Axes>"
      ]
     },
     "metadata": {},
     "output_type": "display_data"
    }
   ],
   "source": [
    "# Visualizacion\n",
    "\n",
    "import matplotlib.pyplot as plt\n",
    "\n",
    "# Beneficio por región\n",
    "ventas_region['Beneficio'].plot(kind='bar', figsize=(10, 6), color='green')\n",
    "plt.title('Beneficio por Región')\n",
    "plt.xlabel('Región')\n",
    "plt.ylabel('Beneficio')\n",
    "plt.xticks(rotation=45)\n",
    "plt.grid(axis='y', linestyle='--', alpha=0.7)\n",
    "plt.tight_layout()\n",
    "plt.show()"
   ]
  },
  {
   "cell_type": "code",
   "execution_count": 84,
   "id": "ccaebb1e",
   "metadata": {},
   "outputs": [
    {
     "data": {
      "image/png": "[encoded data removed]",
      "text/plain": [
       "<Figure size 1000x600 with 1 Axes>"
      ]
     },
     "metadata": {},
     "output_type": "display_data"
    }
   ],
   "source": [
    "# Beneficios por Producto\n",
    "ventas_producto['Beneficio'].plot(kind='bar', figsize=(10, 6), color='green')\n",
    "plt.title('Beneficio por Producto')\n",
    "plt.xlabel('Producto')\n",
    "plt.ylabel('Beneficio')\n",
    "plt.xticks(rotation=45)\n",
    "plt.grid(axis='y', linestyle='--', alpha=0.7)\n",
    "plt.tight_layout()\n",
    "plt.show()"
   ]
  }
 ],
 "metadata": {
  "kernelspec": {
   "display_name": "p_venv",
   "language": "python",
   "name": "python3"
  },
  "language_info": {
   "codemirror_mode": {
    "name": "ipython",
    "version": 3
   },
   "file_extension": ".py",
   "mimetype": "text/x-python",
   "name": "python",
   "nbconvert_exporter": "python",
   "pygments_lexer": "ipython3",
   "version": "3.12.2"
  }
 },
 "nbformat": 4,
 "nbformat_minor": 5
}
