{
 "cells": [
  {
   "cell_type": "markdown",
   "id": "f5cfebb2",
   "metadata": {},
   "source": [
    "SERIES EN PANDAS"
   ]
  },
  {
   "cell_type": "code",
   "execution_count": 2,
   "id": "ed9dad6a",
   "metadata": {},
   "outputs": [],
   "source": [
    "import pandas as pd\n",
    "import numpy as np"
   ]
  },
  {
   "cell_type": "code",
   "execution_count": 3,
   "id": "0509dff9",
   "metadata": {},
   "outputs": [
    {
     "name": "stdout",
     "output_type": "stream",
     "text": [
      "serie a partir de una lista:\n",
      "0    10\n",
      "1    20\n",
      "2    30\n",
      "3    40\n",
      "4    50\n",
      "dtype: int64\n",
      "\n",
      " Tipo de dato: int64\n",
      "\n",
      " Tipo de dato: <class 'pandas.core.series.Series'>\n"
     ]
    }
   ],
   "source": [
    "# a partir de una lista\n",
    "lista = [10, 20, 30, 40, 50]\n",
    "serie = pd.Series(lista)\n",
    "print('serie a partir de una lista:')\n",
    "print(serie)\n",
    "print('\\n Tipo de dato:', serie.dtype)\n",
    "print('\\n Tipo de dato:', type(serie))\n"
   ]
  },
  {
   "cell_type": "code",
   "execution_count": 5,
   "id": "fd1fac99",
   "metadata": {},
   "outputs": [
    {
     "name": "stdout",
     "output_type": "stream",
     "text": [
      "\n",
      "serie con indices personalizados:\n",
      "a    10\n",
      "b    20\n",
      "c    30\n",
      "d    40\n",
      "e    50\n",
      "dtype: int64\n"
     ]
    }
   ],
   "source": [
    "# indices personalizados\n",
    "serie_personalizada = pd.Series([10,20,30,40,50],index=['a', 'b', 'c', 'd', 'e'])\n",
    "print('\\nserie con indices personalizados:')\n",
    "print(serie_personalizada)"
   ]
  },
  {
   "cell_type": "code",
   "execution_count": null,
   "id": "e80b9207",
   "metadata": {},
   "outputs": [
    {
     "name": "stdout",
     "output_type": "stream",
     "text": [
      "\n",
      "serie a partir de un diccionario:\n",
      "a    10\n",
      "b    20\n",
      "c    30\n",
      "d    40\n",
      "e    50\n",
      "dtype: int64\n"
     ]
    }
   ],
   "source": [
    "# a partir de un diccionario\n",
    "diccionario = {'a': 10, 'b': 20, 'c': 30, 'd': 40, 'e': 50}\n",
    "serie_diccionario = pd.Series(diccionario)\n",
    "print('\\nserie a partir de un diccionario:')\n",
    "print(serie_diccionario)    "
   ]
  },
  {
   "cell_type": "markdown",
   "id": "34791934",
   "metadata": {},
   "source": [
    "ACCESO A DATOS DE UNA SERIE"
   ]
  },
  {
   "cell_type": "code",
   "execution_count": 18,
   "id": "13647258",
   "metadata": {},
   "outputs": [
    {
     "name": "stdout",
     "output_type": "stream",
     "text": [
      "serie \n",
      "a    10\n",
      "b    20\n",
      "c    30\n",
      "d    40\n",
      "e    50\n",
      "dtype: int64\n",
      "\n",
      "primer elemento: \n",
      "10\n",
      "\n",
      "Elementos del 1 al 3: \n",
      "1    20\n",
      "2    30\n",
      "dtype: int64\n"
     ]
    }
   ],
   "source": [
    "# por posicion (como en numpy)\n",
    "print(f'serie \\n{serie_personalizada}\\n\\nprimer elemento: \\n{serie[0]}')\n",
    "print(f'\\nElementos del 1 al 3: \\n{serie[1:3]}')\n"
   ]
  },
  {
   "cell_type": "code",
   "execution_count": 19,
   "id": "9de9b276",
   "metadata": {},
   "outputs": [
    {
     "name": "stdout",
     "output_type": "stream",
     "text": [
      "\n",
      "Elementos del 1 al 3: \n",
      "b    20\n",
      "c    30\n",
      "d    40\n",
      "dtype: int64\n"
     ]
    }
   ],
   "source": [
    "#por etiquetas\n",
    "print(f'\\nElementos del 1 al 3: \\n{serie_personalizada[\"b\":\"d\"]}')\n"
   ]
  },
  {
   "cell_type": "markdown",
   "id": "4338ce04",
   "metadata": {},
   "source": [
    "OPERACIONES CON SERIES"
   ]
  },
  {
   "cell_type": "code",
   "execution_count": 20,
   "id": "e09dc745",
   "metadata": {},
   "outputs": [
    {
     "name": "stdout",
     "output_type": "stream",
     "text": [
      "serie original:\n",
      "0    10\n",
      "1    20\n",
      "2    30\n",
      "3    40\n",
      "4    50\n",
      "dtype: int64\n",
      "\n",
      " serie * 2: \n",
      "0     20\n",
      "1     40\n",
      "2     60\n",
      "3     80\n",
      "4    100\n",
      "dtype: int64\n",
      "\n",
      " serie + 5: \n",
      "0    15\n",
      "1    25\n",
      "2    35\n",
      "3    45\n",
      "4    55\n",
      "dtype: int64\n"
     ]
    }
   ],
   "source": [
    "# operaciones aritméticas\n",
    "print(f'serie original:\\n{serie}')\n",
    "print(f'\\n serie * 2: \\n{serie * 2}')\n",
    "print(f'\\n serie + 5: \\n{serie + 5}')"
   ]
  },
  {
   "cell_type": "code",
   "execution_count": 22,
   "id": "fbbaf9c7",
   "metadata": {},
   "outputs": [
    {
     "name": "stdout",
     "output_type": "stream",
     "text": [
      "\n",
      " serie_1:\n",
      "0    1\n",
      "1    2\n",
      "2    3\n",
      "3    4\n",
      "4    5\n",
      "dtype: int64\n",
      "\n",
      " serie_2:\n",
      "0    10\n",
      "1    20\n",
      "2    30\n",
      "3    40\n",
      "4    50\n",
      "dtype: int64\n",
      "\n",
      " serie 1 + serie 2:\n",
      "0    11\n",
      "1    22\n",
      "2    33\n",
      "3    44\n",
      "4    55\n",
      "dtype: int64\n"
     ]
    }
   ],
   "source": [
    "# operaciones entre series\n",
    "serie_1 = pd.Series([1,2,3,4,5])\n",
    "serie_2 = pd.Series([10,20,30,40,50])\n",
    "print(f'\\n serie_1:\\n{serie_1}')\n",
    "print(f'\\n serie_2:\\n{serie_2}')\n",
    "print(f'\\n serie 1 + serie 2:\\n{serie_1 + serie_2}')\n"
   ]
  },
  {
   "cell_type": "code",
   "execution_count": 23,
   "id": "f8e4520c",
   "metadata": {},
   "outputs": [
    {
     "name": "stdout",
     "output_type": "stream",
     "text": [
      "\n",
      " serie_a:\n",
      "a    1\n",
      "b    2\n",
      "c    3\n",
      "dtype: int64\n",
      "\n",
      " serie_b:\n",
      "b    10\n",
      "c    20\n",
      "d    30\n",
      "e    40\n",
      "dtype: int64\n",
      "\n",
      " serie_a + serie_b:\n",
      "a     NaN\n",
      "b    12.0\n",
      "c    23.0\n",
      "d     NaN\n",
      "e     NaN\n",
      "dtype: float64\n"
     ]
    }
   ],
   "source": [
    "#alineamiento automático de índices\n",
    "serie_a = pd.Series([1,2,3], index=['a', 'b', 'c'])\n",
    "serie_b = pd.Series([10,20,30,40], index=['b', 'c', 'd','e'])\n",
    "print(f'\\n serie_a:\\n{serie_a}')\n",
    "print(f'\\n serie_b:\\n{serie_b}')\n",
    "print(f'\\n serie_a + serie_b:\\n{serie_a + serie_b}')"
   ]
  },
  {
   "cell_type": "markdown",
   "id": "2a64cded",
   "metadata": {},
   "source": [
    "MÉTODOS ÚTILES PARA SERIES"
   ]
  },
  {
   "cell_type": "code",
   "execution_count": null,
   "id": "366ed931",
   "metadata": {},
   "outputs": [],
   "source": []
  }
 ],
 "metadata": {
  "kernelspec": {
   "display_name": "p_venv",
   "language": "python",
   "name": "python3"
  },
  "language_info": {
   "codemirror_mode": {
    "name": "ipython",
    "version": 3
   },
   "file_extension": ".py",
   "mimetype": "text/x-python",
   "name": "python",
   "nbconvert_exporter": "python",
   "pygments_lexer": "ipython3",
   "version": "3.12.2"
  }
 },
 "nbformat": 4,
 "nbformat_minor": 5
}
