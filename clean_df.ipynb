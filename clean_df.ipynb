{
 "cells": [
  {
   "cell_type": "markdown",
   "id": "6b682605",
   "metadata": {},
   "source": [
    "        MANEJO DE VALORES NULOS CON PANDAS"
   ]
  },
  {
   "cell_type": "code",
   "execution_count": null,
   "id": "5901d254",
   "metadata": {},
   "outputs": [],
   "source": [
    "import pandas as pd\n",
    "import numpy as np\n",
    "import matplotlib.pyplot as plt\n",
    "import time # para medir el tiempo de ejecucion\n",
    "from datetime import datetime # para convertir a datetime\n",
    "import re # para usar expresiones regulares regex\n",
    "\n",
    "# esta line es para que las gráficas se vean en el notebook\n",
    "%matplotlib inline \n",
    "plt.style.use('seaborn-v0_8-whitegrid')"
   ]
  },
  {
   "cell_type": "markdown",
   "id": "7a53da9e",
   "metadata": {},
   "source": [
    "Dataframe con valores nulos"
   ]
  },
  {
   "cell_type": "code",
   "execution_count": null,
   "id": "374dd481",
   "metadata": {},
   "outputs": [],
   "source": [
    "data = {\n",
    "    'ID': [1, 2, 3, 4, 5, 6, 7, 8, 9, 10],\n",
    "    'Nombre': ['Ana', 'Carlos', np.nan, 'Diana', 'Eduardo', 'Fernanda', 'Gustavo', np.nan, 'Irene', 'Juan'],\n",
    "    'Edad': [25, np.nan, 32, 28, np.nan, 22, 35, 40, np.nan, 30],\n",
    "    'Puntuacion': [85, 92, np.nan, 78, 88, np.nan, np.nan, 95, 82, 90],\n",
    "    'Departamento': ['Ventas', np.nan, 'IT', 'Ventas', 'IT', 'RH', 'RH', 'IT', np.nan, 'Ventas'],\n",
    "    'Fecha_ingreso': ['2020-01-15', '2019-03-22', np.nan, '2021-06-10', '2018-11-05', np.nan, '2022-02-28', '2017-09-12', '2020-07-19', np.nan]\n",
    "}\n",
    "\n",
    "df= pd.DataFrame(data)\n",
    "df"
   ]
  },
  {
   "cell_type": "code",
   "execution_count": null,
   "id": "ca34c835",
   "metadata": {},
   "outputs": [],
   "source": [
    "# valores nulos en la tabla, si es true, es nulo\n",
    "df.isnull()  # Total de valores nulos por columna"
   ]
  },
  {
   "cell_type": "code",
   "execution_count": null,
   "id": "205e691f",
   "metadata": {},
   "outputs": [],
   "source": [
    "# contar valores nulos por columna\n",
    "df.isnull().sum()  "
   ]
  },
  {
   "cell_type": "code",
   "execution_count": null,
   "id": "f8a8e9c0",
   "metadata": {},
   "outputs": [],
   "source": [
    "# contar valores nulos por fila\n",
    "df.isnull().sum(axis=1)  "
   ]
  },
  {
   "cell_type": "code",
   "execution_count": null,
   "id": "15e9f13e",
   "metadata": {},
   "outputs": [],
   "source": [
    "# verificar si hay valores nulos en el DataFrame\n",
    "df.isnull().values.any().any()  # True si hay valores nulos en el DataFrame, fila y columna"
   ]
  },
  {
   "cell_type": "code",
   "execution_count": null,
   "id": "147b3b76",
   "metadata": {},
   "outputs": [],
   "source": [
    "# promedio de valores nulos\n",
    "df.isnull().mean()*100  # Promedio de valores nulos por columna"
   ]
  },
  {
   "cell_type": "code",
   "execution_count": null,
   "id": "dc61a7f2",
   "metadata": {},
   "outputs": [],
   "source": [
    "# promedio de valores nulos por fila\n",
    "df.isnull().mean(axis=1)*100  "
   ]
  },
  {
   "cell_type": "markdown",
   "id": "85aa0074",
   "metadata": {},
   "source": [
    "Manipulación de valores nulos\n"
   ]
  },
  {
   "cell_type": "code",
   "execution_count": null,
   "id": "0b3f61cb",
   "metadata": {},
   "outputs": [],
   "source": [
    "# porcentaje de valores nulos por columna\n",
    "df_II = df.dropna()\n",
    "df_II"
   ]
  },
  {
   "cell_type": "code",
   "execution_count": null,
   "id": "a6572ba5",
   "metadata": {},
   "outputs": [],
   "source": [
    "df"
   ]
  },
  {
   "cell_type": "code",
   "execution_count": null,
   "id": "587b00fa",
   "metadata": {},
   "outputs": [],
   "source": [
    "#eliminar filas solo si todas las columnas son nulas\n",
    "df.dropna(how='all')  # Eliminar filas solo si todas las columnas son nulas\n",
    "df"
   ]
  },
  {
   "cell_type": "code",
   "execution_count": null,
   "id": "c4ab83cf",
   "metadata": {},
   "outputs": [],
   "source": [
    "df_III = pd.DataFrame( {\n",
    "    'ID': [None, 2, 3, 4, 5, 6, 7, 8, 9, 10],\n",
    "    'Nombre': [np.nan, 'Carlos', np.nan, 'Diana', 'Eduardo', 'Fernanda', 'Gustavo', np.nan, 'Irene', 'Juan'],\n",
    "    'Edad': [None, np.nan, 32, 28, np.nan, 22, 35, 40, np.nan, 30],\n",
    "    'Puntuacion': [np.nan,np.nan, np.nan, None, None, np.nan, np.nan, None, None, None],\n",
    "    'Departamento': [None, np.nan, 'IT', 'Ventas', 'IT', 'RH', 'RH', 'IT', np.nan, 'Ventas'],\n",
    "    'Fecha_ingreso': [None, '2019-03-22', np.nan, '2021-06-10', '2018-11-05', np.nan, '2022-02-28', '2017-09-12', '2020-07-19', np.nan]\n",
    "})\n",
    "df_III\n"
   ]
  },
  {
   "cell_type": "code",
   "execution_count": null,
   "id": "61737b44",
   "metadata": {},
   "outputs": [],
   "source": [
    "# Eliminar filas solo si todas las columnas son nulas\n",
    "df_III.dropna(how='all')  "
   ]
  },
  {
   "cell_type": "code",
   "execution_count": null,
   "id": "64138401",
   "metadata": {},
   "outputs": [],
   "source": [
    "# Eliminar columnas solo si todas las filas son nulas\n",
    "df_III.dropna(axis=1, how='all')  "
   ]
  },
  {
   "cell_type": "code",
   "execution_count": null,
   "id": "2ee5aa47",
   "metadata": {},
   "outputs": [],
   "source": [
    "# elimiminar columna si tiene un numero repetido de nulos\n",
    "df.dropna(thresh=8, axis=1)  # thresh=8, axis=1 Eliminar columnas si tienen menos de 7 valores no nulos\n"
   ]
  },
  {
   "cell_type": "markdown",
   "id": "4fd407f8",
   "metadata": {},
   "source": [
    "Reemplazo de valores faltantes"
   ]
  },
  {
   "cell_type": "code",
   "execution_count": null,
   "id": "77ffb509",
   "metadata": {},
   "outputs": [],
   "source": [
    "df"
   ]
  },
  {
   "cell_type": "code",
   "execution_count": null,
   "id": "c663c2d0",
   "metadata": {},
   "outputs": [],
   "source": [
    "# Rellenar valores nulos con un valor especifico\n",
    "df.fillna(0)  \n"
   ]
  },
  {
   "cell_type": "code",
   "execution_count": null,
   "id": "71ea63a9",
   "metadata": {},
   "outputs": [],
   "source": [
    "# rellnar valores nulos con texto\n",
    "df.fillna('Sin nombre')  "
   ]
  },
  {
   "cell_type": "code",
   "execution_count": null,
   "id": "d152eece",
   "metadata": {},
   "outputs": [],
   "source": [
    "# rellenar con ceros y texto\n",
    "value_replace = {\n",
    "    col: 0 if df[col].dtype in ['int64', 'float64'] else 'Sin nombre' for col in df.columns\n",
    "}\n",
    "value_replace"
   ]
  },
  {
   "cell_type": "code",
   "execution_count": null,
   "id": "c94ff94a",
   "metadata": {},
   "outputs": [],
   "source": [
    "# Relleno personalizado\n",
    "df.fillna(value_replace)  # Rellenar valores nulos con 0 y 'Sin nombre' dependiendo del tipo de dato\n"
   ]
  },
  {
   "cell_type": "code",
   "execution_count": null,
   "id": "8221a442",
   "metadata": {},
   "outputs": [],
   "source": [
    "# rellenar con el promedio de la columna\n",
    "df.fillna(df.mean(numeric_only=True))  # Rellenar valores nulos con el promedio de la columna"
   ]
  },
  {
   "cell_type": "code",
   "execution_count": null,
   "id": "f5294b5b",
   "metadata": {},
   "outputs": [],
   "source": [
    "# rellenar con el valor anterior o siguiente\n",
    "df.fillna(method='ffill')  # Rellenar valores nulos con el valor siguiente (forward fill)\n",
    "             "
   ]
  },
  {
   "cell_type": "code",
   "execution_count": null,
   "id": "734fcf92",
   "metadata": {},
   "outputs": [],
   "source": [
    "df.fillna(method='bfill')  # Rellenar valores nulos con el valor anterior (before fill)\n"
   ]
  },
  {
   "cell_type": "code",
   "execution_count": null,
   "id": "64fc2222",
   "metadata": {},
   "outputs": [],
   "source": [
    "# Relleno con interpolacion\n",
    "df.interpolate()  #solo rellena para columnas numericas"
   ]
  },
  {
   "cell_type": "code",
   "execution_count": null,
   "id": "e57ad839",
   "metadata": {},
   "outputs": [],
   "source": [
    "# relleno con valores especificos por columna / es una de las mejores opciones\n",
    "df.fillna({'ID': 0, 'Nombre': 'Sin nombre',\n",
    "           'Edad': 0, 'Puntuacion': 0, \n",
    "           'Departamento': 'Sin departamento', \n",
    "           'Fecha_ingreso': 'Sin fecha'\n",
    "           })  # Rellenar valores nulos con un valor especifico por columna\n"
   ]
  },
  {
   "cell_type": "code",
   "execution_count": null,
   "id": "6106189e",
   "metadata": {},
   "outputs": [],
   "source": [
    "#declarar el diccionario de reemplazo\n",
    "value_replace = {\n",
    "    'ID': 0,\n",
    "    'Nombre': 'Sin nombre',\n",
    "    'Edad': 0,\n",
    "    'Puntuacion': 0,\n",
    "    'Departamento': 'Sin departamento',\n",
    "    'Fecha_ingreso': 'Sin fecha'\n",
    "}\n",
    "# Rellenar valores nulos con un valor especifico por columna\n",
    "df.fillna(value=value_replace)  # Rellenar valores nulos con un valor especifico por columna"
   ]
  },
  {
   "cell_type": "code",
   "execution_count": null,
   "id": "40cdb8aa",
   "metadata": {},
   "outputs": [],
   "source": [
    "# rellenar con el promedio de la columna\n",
    "value_replace = {\n",
    "    'ID': 0,\n",
    "    'Nombre': 'Sin nombre',\n",
    "    'Edad': df['Edad'].mean(),\n",
    "    'Puntuacion': df['Puntuacion'].mean(),\n",
    "    'Departamento': 'Sin departamento',\n",
    "    'Fecha_ingreso': 'Sin fecha'\n",
    "}\n",
    "df.fillna(value=value_replace)  # Rellenar valores nulos con un valor especifico por columna\n"
   ]
  },
  {
   "cell_type": "markdown",
   "id": "71f1bd0b",
   "metadata": {},
   "source": [
    "MANEJO DE VALORES ATIPICOS"
   ]
  },
  {
   "cell_type": "code",
   "execution_count": null,
   "id": "7bad58de",
   "metadata": {},
   "outputs": [],
   "source": [
    "# dataframe con valores atipicos\n",
    "df_outliers = pd.DataFrame({\n",
    "    'Valor' : np.concatenate([np.random.normal(100, 10, 97), [200,5,250]])\n",
    "})\n",
    "\n",
    "df_outliers"
   ]
  },
  {
   "cell_type": "code",
   "execution_count": null,
   "id": "71313779",
   "metadata": {},
   "outputs": [],
   "source": [
    "#1. estadistica descriptiva\n",
    "df_outliers.describe()  # Descripcion de los datos"
   ]
  },
  {
   "cell_type": "code",
   "execution_count": null,
   "id": "ad68cfe7",
   "metadata": {},
   "outputs": [],
   "source": [
    "# máximo de los datos\n",
    "df_outliers['Valor'].max()  "
   ]
  },
  {
   "cell_type": "code",
   "execution_count": null,
   "id": "2efe7d05",
   "metadata": {},
   "outputs": [],
   "source": [
    " # Minimo de los datos\n",
    "df_outliers['Valor'].min() "
   ]
  },
  {
   "cell_type": "code",
   "execution_count": null,
   "id": "76ca3685",
   "metadata": {},
   "outputs": [],
   "source": [
    "#2. rango intercuartilico. es una medida de dispersion que tan dispersos estan los datos centrales de un conjunto\n",
    "Q1 = df_outliers['Valor'].quantile(0.25)  # Primer cuartil\n",
    "Q3 = df_outliers['Valor'].quantile(0.75)  # Tercer cuartil\n",
    "IQR = Q3 - Q1  # Rango intercuartilico\n",
    "IQR"
   ]
  },
  {
   "cell_type": "code",
   "execution_count": null,
   "id": "8c51762d",
   "metadata": {},
   "outputs": [],
   "source": [
    "#limities inferior\n",
    "lower_limit = Q1 - 1.5 * IQR  # Limite inferior\n",
    "lower_limit"
   ]
  },
  {
   "cell_type": "code",
   "execution_count": null,
   "id": "150acac1",
   "metadata": {},
   "outputs": [],
   "source": [
    "#limite superior\n",
    "upper_limit = Q3 + 1.5 * IQR  # Limite superior\n",
    "upper_limit"
   ]
  },
  {
   "cell_type": "code",
   "execution_count": null,
   "id": "da02ff6e",
   "metadata": {},
   "outputs": [],
   "source": [
    "#identificacion de valores atipicos outliers\n",
    "outliers = df_outliers[(df_outliers['Valor'] < lower_limit) | \n",
    "                       (df_outliers['Valor'] > upper_limit)]  \n",
    "outliers\n"
   ]
  },
  {
   "cell_type": "code",
   "execution_count": null,
   "id": "27d1fb7b",
   "metadata": {},
   "outputs": [],
   "source": [
    "# eliminando valores atipicos outliers\n",
    "df_outliers_clear = df_outliers[(df_outliers['Valor'] >= lower_limit) &\n",
    "                                (df_outliers['Valor'] <= upper_limit)] # Eliminacion de valores atípicos\n",
    "df_outliers_clear"
   ]
  },
  {
   "cell_type": "code",
   "execution_count": null,
   "id": "bc6efeb0",
   "metadata": {},
   "outputs": [],
   "source": [
    "# Descripcion de los datos sin outliers\n",
    "df_outliers_clear.describe()  "
   ]
  },
  {
   "cell_type": "markdown",
   "id": "906162b1",
   "metadata": {},
   "source": [
    "FILTRADO AVANZADOS DE DATOS\n"
   ]
  },
  {
   "cell_type": "code",
   "execution_count": null,
   "id": "b4564987",
   "metadata": {},
   "outputs": [],
   "source": [
    "# dataframe \n",
    "df = pd.DataFrame({\n",
    "    'Valor': range(1, 6),\n",
    "    'Valor_2': range(10,0,-2),\n",
    "    'Letras': ['a', 'b', 'c', 'd', 'e'],\n",
    "    'Boleanos': [True, False, True, False, True],\n",
    "    })\n",
    "df"
   ]
  },
  {
   "cell_type": "code",
   "execution_count": null,
   "id": "98ac365f",
   "metadata": {},
   "outputs": [],
   "source": [
    "# filtrar por medio de query. query es una forma de filtrar datos en un DataFrame de pandas\n",
    "df.query('Valor > 2 and Valor_2 <= 6')  # Filtrar por medio de query"
   ]
  },
  {
   "cell_type": "code",
   "execution_count": null,
   "id": "f8dc6c16",
   "metadata": {},
   "outputs": [],
   "source": [
    "#utilizando variables en query\n",
    "valor_max= 4\n",
    "df.query('Valor > @valor_max')  # con el @ se indica que es una variable de python\n"
   ]
  },
  {
   "cell_type": "code",
   "execution_count": null,
   "id": "2f86df24",
   "metadata": {},
   "outputs": [],
   "source": [
    "# con eval() para calcular una nueva columna\n",
    "df.eval('Valor_3 = Valor + Valor_2')  \n"
   ]
  },
  {
   "cell_type": "code",
   "execution_count": null,
   "id": "ce500e37",
   "metadata": {},
   "outputs": [],
   "source": [
    "# creando una nueva columna en el DataFrame original, gracias a inplace=True\n",
    "df.eval('Valor_3 = Valor * 2', inplace=True)  \n",
    "df"
   ]
  },
  {
   "cell_type": "markdown",
   "id": "6792ddd9",
   "metadata": {},
   "source": [
    "seleccion avanzada de columnas con .loc, .iloc, .at e .iat\n"
   ]
  },
  {
   "cell_type": "code",
   "execution_count": null,
   "id": "7dcdfede",
   "metadata": {},
   "outputs": [],
   "source": [
    "# con .loc nos permite seleccionar filas y columnas por etiquetas\n",
    "df.loc[0:2, ['Valor', 'Valor_2']]  "
   ]
  },
  {
   "cell_type": "code",
   "execution_count": null,
   "id": "bd224747",
   "metadata": {},
   "outputs": [],
   "source": [
    "df.loc[1:3, ['Valor', 'Letras']]"
   ]
  },
  {
   "cell_type": "code",
   "execution_count": null,
   "id": "89ac6a6e",
   "metadata": {},
   "outputs": [],
   "source": [
    "# con .iloc nos permite seleccionar filas y columnas por indices\n",
    "df.iloc[0:2, 0:2]"
   ]
  },
  {
   "cell_type": "code",
   "execution_count": null,
   "id": "442e86ca",
   "metadata": {},
   "outputs": [],
   "source": [
    "df"
   ]
  },
  {
   "cell_type": "code",
   "execution_count": null,
   "id": "7b330592",
   "metadata": {},
   "outputs": [],
   "source": [
    "df.iloc[1:4,[0,2]]  # Seleccion de filas y columnas con iloc"
   ]
  },
  {
   "cell_type": "code",
   "execution_count": null,
   "id": "a284bf39",
   "metadata": {},
   "outputs": [],
   "source": [
    "# usando condicionales en .loc\n",
    "df.loc[df['Valor'] > 2, ['Valor_2', 'Letras']]  "
   ]
  },
  {
   "cell_type": "code",
   "execution_count": null,
   "id": "7b0e04b5",
   "metadata": {},
   "outputs": [],
   "source": [
    "# acceso a un solo valor con .at\n",
    "df.at[2, 'Valor_2'] \n"
   ]
  },
  {
   "cell_type": "code",
   "execution_count": null,
   "id": "12c17986",
   "metadata": {},
   "outputs": [],
   "source": [
    "# acceso a un solo valor con .iat\n",
    "df.iat[2, 1]  "
   ]
  },
  {
   "cell_type": "markdown",
   "id": "a1e69ebb",
   "metadata": {},
   "source": [
    "MODIFICACION DE DATOS CON APPLY, MAP, APPLYMAP\n"
   ]
  },
  {
   "cell_type": "code",
   "execution_count": null,
   "id": "9b8724c6",
   "metadata": {},
   "outputs": [],
   "source": [
    "# nuevo dataframe\n",
    "df= pd.DataFrame({\n",
    "    'A': [1, 2, 3, 4, 5],\n",
    "    'B': [10, 20, 30, 40, 50],\n",
    "    'C': ['a', 'b', 'c', 'd', 'e']\n",
    "})\n",
    "    "
   ]
  },
  {
   "cell_type": "code",
   "execution_count": null,
   "id": "a98b0997",
   "metadata": {},
   "outputs": [],
   "source": [
    "df"
   ]
  },
  {
   "cell_type": "code",
   "execution_count": null,
   "id": "c939c5af",
   "metadata": {},
   "outputs": [],
   "source": [
    "# 1. Apply()\n",
    "# usando apply para aplicar una funcion a cada columna\n",
    "# se debe pedir que solo sean columnas numericas\n",
    "df.select_dtypes(include=[np.number]).apply(lambda x: x.max() - x.min())  # Aplicar una funcion a cada columna\n"
   ]
  },
  {
   "cell_type": "code",
   "execution_count": null,
   "id": "0ed09dce",
   "metadata": {},
   "outputs": [],
   "source": [
    "# usando apply para aplicar una funcion a cada fila numerica\n",
    "df.select_dtypes(include=[np.number]).apply(lambda x: x.max() - x.min(), axis=1)  # Aplicar una funcion a cada fila numerica"
   ]
  },
  {
   "cell_type": "code",
   "execution_count": null,
   "id": "51645b80",
   "metadata": {},
   "outputs": [],
   "source": [
    "df.select_dtypes(include=[np.number]).sum(axis=1)  # Aplicar una funcion a cada fila numerica\n"
   ]
  },
  {
   "cell_type": "code",
   "execution_count": null,
   "id": "93248d4e",
   "metadata": {},
   "outputs": [],
   "source": [
    "# Map()\n",
    "# en la columna C, reemplazar los valores por su respectivo nombre usando map()\n",
    "\n",
    "df['C'].map({\n",
    "    'a': 'Anderson',\n",
    "    'b': 'Benjamin',\n",
    "    'c': 'Catherine',\n",
    "    'd': 'David',\n",
    "    'e': 'Edward'\n",
    "})\n",
    "\n",
    "df \n"
   ]
  },
  {
   "cell_type": "code",
   "execution_count": null,
   "id": "0f0fd1c1",
   "metadata": {},
   "outputs": [],
   "source": [
    "#creando una nueva columna con el resultado de map()\n",
    "df['D'] = df['C'].map({\n",
    "    'a': 'Anderson',\n",
    "    'b': 'Benjamin',\n",
    "    'c': 'Catherine',\n",
    "    'd': 'David',\n",
    "    'e': 'Edward'\n",
    "})\n",
    "df"
   ]
  },
  {
   "cell_type": "code",
   "execution_count": null,
   "id": "6e3dc957",
   "metadata": {},
   "outputs": [],
   "source": [
    "# funcion lambda con map()\n",
    "df['D'].map(lambda x: x.upper())  # Convertir los valores a mayusculas usando map() y lambda\n"
   ]
  },
  {
   "cell_type": "code",
   "execution_count": null,
   "id": "f4e073e9",
   "metadata": {},
   "outputs": [],
   "source": [
    "# usando una funcion en map()\n",
    "df['A'].map(lambda x: x**2)  # Elevar al cuadrado los valores de la columna A usando map() y lambda"
   ]
  },
  {
   "cell_type": "code",
   "execution_count": null,
   "id": "0b874132",
   "metadata": {},
   "outputs": [],
   "source": [
    "# guardando el resultado en una nueva columna\n",
    "df['E'] = df['A'].map(lambda x: x**2)  # Elevar al cuadrado los valores de la columna A usando map() y lambda\n",
    "df"
   ]
  },
  {
   "cell_type": "code",
   "execution_count": null,
   "id": "de1e62a4",
   "metadata": {},
   "outputs": [],
   "source": [
    "# usando map para aplicar una funcion a cada elemento del DataFrame\n",
    "df.map(lambda x: str(x) + '!' if isinstance(x, (int, float)) else x.upper())  # Aplicar una funcion a cada elemento del DataFrame\n"
   ]
  },
  {
   "cell_type": "code",
   "execution_count": null,
   "id": "b603cba4",
   "metadata": {},
   "outputs": [],
   "source": [
    "# se puede usar map() \n",
    "df.map(lambda x: str(x) + '!' if isinstance(x, (int, float)) else x.upper())  # Aplicar una funcion a cada elemento del DataFrame\n"
   ]
  },
  {
   "cell_type": "markdown",
   "id": "f7d3011a",
   "metadata": {},
   "source": [
    "MODIFICACIONES VECTORIZADAS VS ITERATIVAS "
   ]
  },
  {
   "cell_type": "code",
   "execution_count": null,
   "id": "a5a6d242",
   "metadata": {},
   "outputs": [],
   "source": [
    "n = 1000\n",
    "df_big = pd.DataFrame({\n",
    "    'A': np.random.randint(1,100,n),\n",
    "    'B': np.random.randint(1,100,n)\n",
    "})\n",
    "df_big.tail()"
   ]
  },
  {
   "cell_type": "code",
   "execution_count": null,
   "id": "5cf3a080",
   "metadata": {},
   "outputs": [],
   "source": [
    "# 1. ITERATIVO  CON UN BUCLE FOR\n",
    "start_time = time.time()\n",
    "resutltado_for = []\n",
    "for i in range(len(df_big)):\n",
    "    resutltado_for.append(df_big.iloc[i]['A'] * df_big.iloc[i]['B'])\n",
    "time_for = time.time() - start_time"
   ]
  },
  {
   "cell_type": "code",
   "execution_count": null,
   "id": "5c7a9f2c",
   "metadata": {},
   "outputs": [],
   "source": [
    "time_for"
   ]
  },
  {
   "cell_type": "code",
   "execution_count": null,
   "id": "a7aec318",
   "metadata": {},
   "outputs": [],
   "source": [
    "resutltado_for"
   ]
  },
  {
   "cell_type": "code",
   "execution_count": null,
   "id": "83c57839",
   "metadata": {},
   "outputs": [],
   "source": [
    "# 2. ITERATIVO CON APPLY\n",
    "start_time = time.time()\n",
    "resultado_apply = df_big.apply(lambda x: x['A'] * x['B'], axis=1)\n",
    "time_apply = time.time() - start_time\n"
   ]
  },
  {
   "cell_type": "code",
   "execution_count": null,
   "id": "6daba190",
   "metadata": {},
   "outputs": [],
   "source": [
    "time_apply"
   ]
  },
  {
   "cell_type": "code",
   "execution_count": null,
   "id": "61f2b271",
   "metadata": {},
   "outputs": [],
   "source": [
    "resultado_apply"
   ]
  },
  {
   "cell_type": "code",
   "execution_count": null,
   "id": "ae7d954b",
   "metadata": {},
   "outputs": [],
   "source": [
    "# 3. VECTORIZADO CON NUMPY\n",
    "start_time = time.time()\n",
    "resultado_numpy = df_big['A'].values * df_big['B'].values \n",
    "time_numpy = time.time() - start_time\n"
   ]
  },
  {
   "cell_type": "code",
   "execution_count": null,
   "id": "c7399871",
   "metadata": {},
   "outputs": [],
   "source": [
    "time_numpy"
   ]
  },
  {
   "cell_type": "code",
   "execution_count": null,
   "id": "85bf3573",
   "metadata": {},
   "outputs": [],
   "source": [
    "resultado_numpy"
   ]
  },
  {
   "cell_type": "code",
   "execution_count": null,
   "id": "048b803e",
   "metadata": {},
   "outputs": [],
   "source": [
    "# comparacion de los 3 metodos\n",
    "times = [time_for, time_apply, time_numpy]\n",
    "methods = ['for', 'apply', 'numpy']\n",
    "pd.DataFrame({'metodo': methods, 'tiempo': times})  # Comparacion de los 3 metodos\n",
    "plt.bar(methods, times)\n",
    "plt.title('Comparacion de metodos')\n",
    "plt.yscale('log')  # Escala logaritmica para la grafica\n",
    "plt.grid(axis='y', linestyle='--', alpha=0.3)  # Lineas de la grilla\n",
    "plt.xlabel('Metodo')\n",
    "plt.ylabel('Tiempo (s)')\n",
    "for i, v in enumerate(times):\n",
    "    plt.text(i, v * 1.1, f'{v: 2f}', ha='center', fontsize=10)  # Texto en la grafica\n",
    "\n",
    "\n",
    "plt.show()  # Mostrar la grafica de comparacion de metodos\n",
    "\n"
   ]
  },
  {
   "cell_type": "markdown",
   "id": "e3a9c3da",
   "metadata": {},
   "source": [
    "MANIPULACION DE STRINGS"
   ]
  },
  {
   "cell_type": "code",
   "execution_count": null,
   "id": "120f61bc",
   "metadata": {},
   "outputs": [],
   "source": [
    "# SERIE CON STRINGS\n",
    "s = pd.Series(['  python_ciencia_datos  ', 'john_doe@gmail.com', \n",
    "               'CIENCIA de datos', ' Analisis Datos ',\n",
    "               'python_3.8.5', 'numpy 2.2.5'])\n",
    "s\n"
   ]
  },
  {
   "cell_type": "code",
   "execution_count": null,
   "id": "c1800e5f",
   "metadata": {},
   "outputs": [],
   "source": [
    "# OPERACIONES CON STRINGS\n",
    "s.str.lower()  # Convertir a minusculas"
   ]
  },
  {
   "cell_type": "code",
   "execution_count": null,
   "id": "a4cf9b48",
   "metadata": {},
   "outputs": [],
   "source": [
    "s.str.upper() # Convertir a mayusculas"
   ]
  },
  {
   "cell_type": "code",
   "execution_count": null,
   "id": "c783c384",
   "metadata": {},
   "outputs": [],
   "source": [
    "s.str.strip() # Eliminar espacios en blanco al inicio y al final"
   ]
  },
  {
   "cell_type": "code",
   "execution_count": null,
   "id": "5e558499",
   "metadata": {},
   "outputs": [],
   "source": [
    "s.str.replace('_', ' ')  # Reemplazar espacios en blanco por nada"
   ]
  },
  {
   "cell_type": "code",
   "execution_count": null,
   "id": "694c34f7",
   "metadata": {},
   "outputs": [],
   "source": [
    "# EXTRACCION DE INFORMACION\n",
    "s.str.contains('datos', case=False)  # extraer la palabra datos de la serie, case=False para que no distinga entre mayusculas y minusculas"
   ]
  },
  {
   "cell_type": "code",
   "execution_count": null,
   "id": "9fc5c7fb",
   "metadata": {},
   "outputs": [],
   "source": [
    "s.str[0:5]  # Extraer los primeros 5 caracteres de la serie"
   ]
  },
  {
   "cell_type": "code",
   "execution_count": null,
   "id": "4587e7b2",
   "metadata": {},
   "outputs": [],
   "source": [
    "# DIVISION DE STRINGS\n",
    "s.str.split(' ')  # Dividir la serie por el caracter ' ' "
   ]
  },
  {
   "cell_type": "code",
   "execution_count": null,
   "id": "984eac1a",
   "metadata": {},
   "outputs": [],
   "source": [
    "\n",
    "s.str.split('_', expand=True)  # Dividir la serie por el caracter _ y expandir en columnas"
   ]
  },
  {
   "cell_type": "markdown",
   "id": "6445199d",
   "metadata": {},
   "source": [
    "EXPRESIONES REGULARES"
   ]
  },
  {
   "cell_type": "code",
   "execution_count": null,
   "id": "6ed5cda7",
   "metadata": {},
   "outputs": [],
   "source": [
    "s_number = pd.Series([\n",
    "    'sales: 156.45 ϵ', \n",
    "    'price: 44.56', \n",
    "    'no number',\n",
    "    'quantity: 77.00'\n",
    "])\n",
    "s_number"
   ]
  },
  {
   "cell_type": "code",
   "execution_count": null,
   "id": "f04b89cf",
   "metadata": {},
   "outputs": [],
   "source": [
    "# extraer el numero de la serie\n",
    "s_number.str.extract(r'(\\d+\\.\\d+)')  "
   ]
  },
  {
   "cell_type": "code",
   "execution_count": null,
   "id": "87e11d32",
   "metadata": {},
   "outputs": [],
   "source": [
    "s_emails = pd.Series([\n",
    "    'john_dou@gmail.com',\n",
    "    'peter@gmail', \n",
    "    'smith_01@gmail.com',\n",
    "    'george.201@dominio.org',\n",
    "    'ana_gmail.com',\n",
    "    'lily@gmail.c'\n",
    "])\n",
    "s_emails\n",
    "    \n",
    "    "
   ]
  },
  {
   "cell_type": "code",
   "execution_count": null,
   "id": "abf2282c",
   "metadata": {},
   "outputs": [],
   "source": [
    "# verificar si es un email valido\n",
    "s_emails.str.contains(r'^[a-zA-Z0-9_.+-]+@[a-zA-Z0-9-]+\\.[a-zA-Z0-9-.]+$')  # Verificar si es un email valido"
   ]
  },
  {
   "cell_type": "code",
   "execution_count": null,
   "id": "bc869562",
   "metadata": {},
   "outputs": [],
   "source": [
    "\n",
    "s_emails.str.match(r'^[a-zA-Z0-9_.%+-]+@[a-zA-Z0-9.-]+\\.[a-zA-Z]{2,}+$')  # Verificar si es un email valido\n"
   ]
  },
  {
   "cell_type": "code",
   "execution_count": 192,
   "id": "ba224c61",
   "metadata": {},
   "outputs": [],
   "source": [
    "import pandas as pd\n",
    "from datetime import datetime \n",
    "import numpy as np"
   ]
  },
  {
   "cell_type": "markdown",
   "id": "7d2b64c6",
   "metadata": {},
   "source": [
    "MANIPULACION Y USOS DE FECHAS"
   ]
  },
  {
   "cell_type": "code",
   "execution_count": 193,
   "id": "dd1bc50c",
   "metadata": {},
   "outputs": [
    {
     "data": {
      "text/html": [
       "<div>\n",
       "<style scoped>\n",
       "    .dataframe tbody tr th:only-of-type {\n",
       "        vertical-align: middle;\n",
       "    }\n",
       "\n",
       "    .dataframe tbody tr th {\n",
       "        vertical-align: top;\n",
       "    }\n",
       "\n",
       "    .dataframe thead th {\n",
       "        text-align: right;\n",
       "    }\n",
       "</style>\n",
       "<table border=\"1\" class=\"dataframe\">\n",
       "  <thead>\n",
       "    <tr style=\"text-align: right;\">\n",
       "      <th></th>\n",
       "      <th>Fecha</th>\n",
       "      <th>Hora</th>\n",
       "      <th>Fecha_hora</th>\n",
       "    </tr>\n",
       "  </thead>\n",
       "  <tbody>\n",
       "    <tr>\n",
       "      <th>0</th>\n",
       "      <td>2020-01-15</td>\n",
       "      <td>10:30:05</td>\n",
       "      <td>2020-01-15 10:30:05</td>\n",
       "    </tr>\n",
       "    <tr>\n",
       "      <th>1</th>\n",
       "      <td>2019-03-22</td>\n",
       "      <td>12:45:50</td>\n",
       "      <td>2019-03-22 12:45:50</td>\n",
       "    </tr>\n",
       "    <tr>\n",
       "      <th>2</th>\n",
       "      <td>2021-06-10</td>\n",
       "      <td>14:15:23</td>\n",
       "      <td>2021-06-10 14:15:23</td>\n",
       "    </tr>\n",
       "    <tr>\n",
       "      <th>3</th>\n",
       "      <td>2018-11-05</td>\n",
       "      <td>09:00:32</td>\n",
       "      <td>2018-11-05 09:00:32</td>\n",
       "    </tr>\n",
       "    <tr>\n",
       "      <th>4</th>\n",
       "      <td>2022-02-28</td>\n",
       "      <td>16:30:57</td>\n",
       "      <td>2022-02-28 16:30:57</td>\n",
       "    </tr>\n",
       "  </tbody>\n",
       "</table>\n",
       "</div>"
      ],
      "text/plain": [
       "        Fecha      Hora           Fecha_hora\n",
       "0  2020-01-15  10:30:05  2020-01-15 10:30:05\n",
       "1  2019-03-22  12:45:50  2019-03-22 12:45:50\n",
       "2  2021-06-10  14:15:23  2021-06-10 14:15:23\n",
       "3  2018-11-05  09:00:32  2018-11-05 09:00:32\n",
       "4  2022-02-28  16:30:57  2022-02-28 16:30:57"
      ]
     },
     "execution_count": 193,
     "metadata": {},
     "output_type": "execute_result"
    }
   ],
   "source": [
    "df_date_str  = pd.DataFrame({\n",
    "    'Fecha': ['2020-01-15', '2019-03-22',\n",
    "              '2021-06-10', '2018-11-05', \n",
    "              '2022-02-28'],\n",
    "    'Hora': ['10:30:05', '12:45:50', \n",
    "             '14:15:23', '09:00:32', \n",
    "             '16:30:57'],\n",
    "    'Fecha_hora': ['2020-01-15 10:30:05', \n",
    "                   '2019-03-22 12:45:50',\n",
    "                   '2021-06-10 14:15:23',\n",
    "                   '2018-11-05 09:00:32', \n",
    "                   '2022-02-28 16:30:57']   \n",
    "})\n",
    "df_date_str"
   ]
  },
  {
   "cell_type": "code",
   "execution_count": 194,
   "id": "703ea3eb",
   "metadata": {},
   "outputs": [
    {
     "data": {
      "text/plain": [
       "Fecha                      object\n",
       "Hora                       object\n",
       "Fecha_hora                 object\n",
       "Fecha_date         datetime64[ns]\n",
       "Hora_date          datetime64[ns]\n",
       "Fecha_hora_date    datetime64[ns]\n",
       "dtype: object"
      ]
     },
     "execution_count": 194,
     "metadata": {},
     "output_type": "execute_result"
    }
   ],
   "source": [
    "# convertir fecha strigs a datetime\n",
    "df_date_str['Fecha_date'] = pd.to_datetime(df_date_str['Fecha'])  # Convertir fecha a datetime\n",
    "df_date_str['Hora_date'] = pd.to_datetime(df_date_str['Hora'], format='%H:%M:%S')  # Convertir hora a datetime\n",
    "df_date_str['Fecha_hora_date'] = pd.to_datetime(df_date_str['Fecha_hora'])  # Convertir fecha y hora a datetime\n",
    "df_date_str.dtypes  # Verificar el tipo de dato de cada columna\n"
   ]
  },
  {
   "cell_type": "code",
   "execution_count": 195,
   "id": "892c95ae",
   "metadata": {},
   "outputs": [
    {
     "data": {
      "text/html": [
       "<div>\n",
       "<style scoped>\n",
       "    .dataframe tbody tr th:only-of-type {\n",
       "        vertical-align: middle;\n",
       "    }\n",
       "\n",
       "    .dataframe tbody tr th {\n",
       "        vertical-align: top;\n",
       "    }\n",
       "\n",
       "    .dataframe thead th {\n",
       "        text-align: right;\n",
       "    }\n",
       "</style>\n",
       "<table border=\"1\" class=\"dataframe\">\n",
       "  <thead>\n",
       "    <tr style=\"text-align: right;\">\n",
       "      <th></th>\n",
       "      <th>Fecha</th>\n",
       "      <th>Hora</th>\n",
       "      <th>Fecha_hora</th>\n",
       "      <th>Fecha_date</th>\n",
       "      <th>Hora_date</th>\n",
       "      <th>Fecha_hora_date</th>\n",
       "    </tr>\n",
       "  </thead>\n",
       "  <tbody>\n",
       "    <tr>\n",
       "      <th>0</th>\n",
       "      <td>2020-01-15</td>\n",
       "      <td>10:30:05</td>\n",
       "      <td>2020-01-15 10:30:05</td>\n",
       "      <td>2020-01-15</td>\n",
       "      <td>1900-01-01 10:30:05</td>\n",
       "      <td>2020-01-15 10:30:05</td>\n",
       "    </tr>\n",
       "    <tr>\n",
       "      <th>1</th>\n",
       "      <td>2019-03-22</td>\n",
       "      <td>12:45:50</td>\n",
       "      <td>2019-03-22 12:45:50</td>\n",
       "      <td>2019-03-22</td>\n",
       "      <td>1900-01-01 12:45:50</td>\n",
       "      <td>2019-03-22 12:45:50</td>\n",
       "    </tr>\n",
       "    <tr>\n",
       "      <th>2</th>\n",
       "      <td>2021-06-10</td>\n",
       "      <td>14:15:23</td>\n",
       "      <td>2021-06-10 14:15:23</td>\n",
       "      <td>2021-06-10</td>\n",
       "      <td>1900-01-01 14:15:23</td>\n",
       "      <td>2021-06-10 14:15:23</td>\n",
       "    </tr>\n",
       "    <tr>\n",
       "      <th>3</th>\n",
       "      <td>2018-11-05</td>\n",
       "      <td>09:00:32</td>\n",
       "      <td>2018-11-05 09:00:32</td>\n",
       "      <td>2018-11-05</td>\n",
       "      <td>1900-01-01 09:00:32</td>\n",
       "      <td>2018-11-05 09:00:32</td>\n",
       "    </tr>\n",
       "    <tr>\n",
       "      <th>4</th>\n",
       "      <td>2022-02-28</td>\n",
       "      <td>16:30:57</td>\n",
       "      <td>2022-02-28 16:30:57</td>\n",
       "      <td>2022-02-28</td>\n",
       "      <td>1900-01-01 16:30:57</td>\n",
       "      <td>2022-02-28 16:30:57</td>\n",
       "    </tr>\n",
       "  </tbody>\n",
       "</table>\n",
       "</div>"
      ],
      "text/plain": [
       "        Fecha      Hora           Fecha_hora Fecha_date           Hora_date  \\\n",
       "0  2020-01-15  10:30:05  2020-01-15 10:30:05 2020-01-15 1900-01-01 10:30:05   \n",
       "1  2019-03-22  12:45:50  2019-03-22 12:45:50 2019-03-22 1900-01-01 12:45:50   \n",
       "2  2021-06-10  14:15:23  2021-06-10 14:15:23 2021-06-10 1900-01-01 14:15:23   \n",
       "3  2018-11-05  09:00:32  2018-11-05 09:00:32 2018-11-05 1900-01-01 09:00:32   \n",
       "4  2022-02-28  16:30:57  2022-02-28 16:30:57 2022-02-28 1900-01-01 16:30:57   \n",
       "\n",
       "      Fecha_hora_date  \n",
       "0 2020-01-15 10:30:05  \n",
       "1 2019-03-22 12:45:50  \n",
       "2 2021-06-10 14:15:23  \n",
       "3 2018-11-05 09:00:32  \n",
       "4 2022-02-28 16:30:57  "
      ]
     },
     "execution_count": 195,
     "metadata": {},
     "output_type": "execute_result"
    }
   ],
   "source": [
    "df_date_str# Verificar la columna de fechas convertidas a datetime\n",
    "df_date_str \n",
    "df_date = df_date_str.copy()  # Copiar el DataFrame original para no modificarlo\n",
    "df_date \n"
   ]
  },
  {
   "cell_type": "code",
   "execution_count": 196,
   "id": "dc49cf2c",
   "metadata": {},
   "outputs": [
    {
     "data": {
      "text/plain": [
       "0    2020\n",
       "1    2019\n",
       "2    2021\n",
       "3    2018\n",
       "4    2022\n",
       "Name: Fecha_date, dtype: int32"
      ]
     },
     "execution_count": 196,
     "metadata": {},
     "output_type": "execute_result"
    }
   ],
   "source": [
    "# adquirir componentes de la fecha\n",
    "df_date['Fecha_date'].dt.year  # Extraer el año de la fecha"
   ]
  },
  {
   "cell_type": "code",
   "execution_count": 197,
   "id": "9920cd3e",
   "metadata": {},
   "outputs": [
    {
     "data": {
      "text/plain": [
       "0     1\n",
       "1     3\n",
       "2     6\n",
       "3    11\n",
       "4     2\n",
       "Name: Fecha_date, dtype: int32"
      ]
     },
     "execution_count": 197,
     "metadata": {},
     "output_type": "execute_result"
    }
   ],
   "source": [
    "df_date['Fecha_date'].dt.month  # Extraer el mes de la fecha"
   ]
  },
  {
   "cell_type": "code",
   "execution_count": 198,
   "id": "dd208916",
   "metadata": {},
   "outputs": [
    {
     "data": {
      "text/plain": [
       "0    10\n",
       "1    12\n",
       "2    14\n",
       "3     9\n",
       "4    16\n",
       "Name: Hora_date, dtype: int32"
      ]
     },
     "execution_count": 198,
     "metadata": {},
     "output_type": "execute_result"
    }
   ],
   "source": [
    "df_date['Hora_date'].dt.hour  # Extraer la hora de la fecha"
   ]
  },
  {
   "cell_type": "code",
   "execution_count": 199,
   "id": "93282ff9",
   "metadata": {},
   "outputs": [
    {
     "data": {
      "text/plain": [
       "0    15\n",
       "1    22\n",
       "2    10\n",
       "3     5\n",
       "4    28\n",
       "Name: Fecha_date, dtype: int32"
      ]
     },
     "execution_count": 199,
     "metadata": {},
     "output_type": "execute_result"
    }
   ],
   "source": [
    "df_date['Fecha_date'].dt.day # Extraer el dia de la fecha"
   ]
  },
  {
   "cell_type": "code",
   "execution_count": 200,
   "id": "45f9cfcb",
   "metadata": {},
   "outputs": [
    {
     "data": {
      "text/plain": [
       "0    Wednesday\n",
       "1       Friday\n",
       "2     Thursday\n",
       "3       Monday\n",
       "4       Monday\n",
       "Name: Fecha_date, dtype: object"
      ]
     },
     "execution_count": 200,
     "metadata": {},
     "output_type": "execute_result"
    }
   ],
   "source": [
    "df_date['Fecha_date'].dt.day_name()  # Extraer el nombre del dia de la fecha    "
   ]
  },
  {
   "cell_type": "code",
   "execution_count": 201,
   "id": "aa761cd4",
   "metadata": {},
   "outputs": [
    {
     "data": {
      "text/plain": [
       "0    10\n",
       "1    12\n",
       "2    14\n",
       "3     9\n",
       "4    16\n",
       "Name: Hora_date, dtype: int32"
      ]
     },
     "execution_count": 201,
     "metadata": {},
     "output_type": "execute_result"
    }
   ],
   "source": [
    "# manipular horas   \n",
    "df_date['Hora_date'].dt.hour  # Extraer la hora de la fecha"
   ]
  },
  {
   "cell_type": "code",
   "execution_count": 202,
   "id": "0392acbd",
   "metadata": {},
   "outputs": [
    {
     "data": {
      "text/plain": [
       "0    30\n",
       "1    45\n",
       "2    15\n",
       "3     0\n",
       "4    30\n",
       "Name: Hora_date, dtype: int32"
      ]
     },
     "execution_count": 202,
     "metadata": {},
     "output_type": "execute_result"
    }
   ],
   "source": [
    "df_date['Hora_date'].dt.minute  # Extraer el minuto de la fecha"
   ]
  },
  {
   "cell_type": "code",
   "execution_count": 203,
   "id": "59bdb134",
   "metadata": {},
   "outputs": [
    {
     "data": {
      "text/plain": [
       "0     5\n",
       "1    50\n",
       "2    23\n",
       "3    32\n",
       "4    57\n",
       "Name: Hora_date, dtype: int32"
      ]
     },
     "execution_count": 203,
     "metadata": {},
     "output_type": "execute_result"
    }
   ],
   "source": [
    "df_date['Hora_date'].dt.second  # Extraer el segundo de la fecha"
   ]
  },
  {
   "cell_type": "code",
   "execution_count": 204,
   "id": "18a52d93",
   "metadata": {},
   "outputs": [
    {
     "data": {
      "text/plain": [
       "0   2020-01-20\n",
       "1   2019-03-27\n",
       "2   2021-06-15\n",
       "3   2018-11-10\n",
       "4   2022-03-05\n",
       "Name: Fecha_date, dtype: datetime64[ns]"
      ]
     },
     "execution_count": 204,
     "metadata": {},
     "output_type": "execute_result"
    }
   ],
   "source": [
    "# sumar dias a una fecha\n",
    "df_date['Fecha_date'] + pd.Timedelta(days=5)  # Sumar 5 dias a la fecha"
   ]
  },
  {
   "cell_type": "code",
   "execution_count": 205,
   "id": "d5abcd73",
   "metadata": {},
   "outputs": [
    {
     "data": {
      "text/plain": [
       "Timedelta('1211 days 07:30:25')"
      ]
     },
     "execution_count": 205,
     "metadata": {},
     "output_type": "execute_result"
    }
   ],
   "source": [
    "# diferencias entre fechas\n",
    "date_start =  df_date['Fecha_hora_date'].min()  \n",
    "date_end = df_date['Fecha_hora_date'].max()  \n",
    "date_dif = date_end - date_start  \n",
    "date_dif  "
   ]
  },
  {
   "cell_type": "code",
   "execution_count": 206,
   "id": "70398d9d",
   "metadata": {},
   "outputs": [
    {
     "data": {
      "text/plain": [
       "DatetimeIndex(['2025-01-01', '2025-02-01', '2025-03-01', '2025-04-01',\n",
       "               '2025-05-01', '2025-06-01', '2025-07-01', '2025-08-01',\n",
       "               '2025-09-01', '2025-10-01', '2025-11-01', '2025-12-01'],\n",
       "              dtype='datetime64[ns]', freq='MS')"
      ]
     },
     "execution_count": 206,
     "metadata": {},
     "output_type": "execute_result"
    }
   ],
   "source": [
    "# Creacion de un rango de fechas\n",
    "date_range = pd.date_range(start='2025-01-01',periods= 12, freq='MS')  # Rango de fechas\n",
    "date_range"
   ]
  },
  {
   "cell_type": "markdown",
   "id": "1a466ea8",
   "metadata": {},
   "source": [
    "Leyenda de frecuencia\n",
    "\n",
    "-'D' dia a dia\n",
    "\n",
    "-'W' cada semana\n",
    "\n",
    "-'MS' inicio del mes\n",
    "\n",
    "-'ME' fin de mes\n",
    "\n",
    "-'Q' trimestral (fin de semana)\n",
    "\n",
    "-'A' anual(fin de año)"
   ]
  },
  {
   "cell_type": "code",
   "execution_count": 207,
   "id": "e7a52123",
   "metadata": {},
   "outputs": [
    {
     "data": {
      "text/plain": [
       "2025-01-01    80\n",
       "2025-01-02    17\n",
       "2025-01-03    47\n",
       "2025-01-04    66\n",
       "2025-01-05    60\n",
       "Freq: D, dtype: int32"
      ]
     },
     "execution_count": 207,
     "metadata": {},
     "output_type": "execute_result"
    }
   ],
   "source": [
    "# series temporales\n",
    "np.random.seed(40)  # Semilla para reproducibilidad\n",
    "fechas_dias = pd.date_range(start='2025-01-01', end='2025-03-31', freq='D')  # Rango de fechas\n",
    "valores_dias = np.random.randint(10, 100, size=len(fechas_dias))  # Valores aleatorios\n",
    "s_dias = pd.Series(valores_dias, index=fechas_dias)  # Serie temporal\n",
    "s_dias.head()  # Mostrar los primeros 5 valores de la serie temporal"
   ]
  },
  {
   "cell_type": "code",
   "execution_count": 208,
   "id": "3dabc2b4",
   "metadata": {},
   "outputs": [
    {
     "data": {
      "text/plain": [
       "2025-01-01    1824\n",
       "2025-02-01    1785\n",
       "2025-03-01    1858\n",
       "Freq: MS, dtype: int32"
      ]
     },
     "execution_count": 208,
     "metadata": {},
     "output_type": "execute_result"
    }
   ],
   "source": [
    "# Agrupar por mes y sumar los valores\n",
    "s_dias.resample('MS').sum()  # resample('MS')  \n"
   ]
  },
  {
   "cell_type": "code",
   "execution_count": 209,
   "id": "1569270f",
   "metadata": {},
   "outputs": [
    {
     "data": {
      "text/plain": [
       "2025-01-01    58.838710\n",
       "2025-02-01    63.750000\n",
       "2025-03-01    59.935484\n",
       "Freq: MS, dtype: float64"
      ]
     },
     "execution_count": 209,
     "metadata": {},
     "output_type": "execute_result"
    }
   ],
   "source": [
    "# Agrupar por mes y promediar los valores\n",
    "s_dias.resample('MS').mean()  \n"
   ]
  },
  {
   "cell_type": "markdown",
   "id": "5f37c6e2",
   "metadata": {},
   "source": [
    "COMBINACION DE DATASETS"
   ]
  },
  {
   "cell_type": "code",
   "execution_count": 210,
   "id": "90cab5d0",
   "metadata": {},
   "outputs": [
    {
     "data": {
      "text/html": [
       "<div>\n",
       "<style scoped>\n",
       "    .dataframe tbody tr th:only-of-type {\n",
       "        vertical-align: middle;\n",
       "    }\n",
       "\n",
       "    .dataframe tbody tr th {\n",
       "        vertical-align: top;\n",
       "    }\n",
       "\n",
       "    .dataframe thead th {\n",
       "        text-align: right;\n",
       "    }\n",
       "</style>\n",
       "<table border=\"1\" class=\"dataframe\">\n",
       "  <thead>\n",
       "    <tr style=\"text-align: right;\">\n",
       "      <th></th>\n",
       "      <th>id_cliente</th>\n",
       "      <th>Nombre</th>\n",
       "      <th>Edad</th>\n",
       "      <th>ciudad</th>\n",
       "    </tr>\n",
       "  </thead>\n",
       "  <tbody>\n",
       "    <tr>\n",
       "      <th>0</th>\n",
       "      <td>1</td>\n",
       "      <td>Ana</td>\n",
       "      <td>25</td>\n",
       "      <td>Madrid</td>\n",
       "    </tr>\n",
       "    <tr>\n",
       "      <th>1</th>\n",
       "      <td>2</td>\n",
       "      <td>Carlos</td>\n",
       "      <td>32</td>\n",
       "      <td>Barcelona</td>\n",
       "    </tr>\n",
       "    <tr>\n",
       "      <th>2</th>\n",
       "      <td>3</td>\n",
       "      <td>Diana</td>\n",
       "      <td>28</td>\n",
       "      <td>Málaga</td>\n",
       "    </tr>\n",
       "    <tr>\n",
       "      <th>3</th>\n",
       "      <td>4</td>\n",
       "      <td>Eduardo</td>\n",
       "      <td>40</td>\n",
       "      <td>Sevilla</td>\n",
       "    </tr>\n",
       "    <tr>\n",
       "      <th>4</th>\n",
       "      <td>5</td>\n",
       "      <td>Fernanda</td>\n",
       "      <td>22</td>\n",
       "      <td>Murcia</td>\n",
       "    </tr>\n",
       "  </tbody>\n",
       "</table>\n",
       "</div>"
      ],
      "text/plain": [
       "   id_cliente    Nombre  Edad     ciudad\n",
       "0           1       Ana    25     Madrid\n",
       "1           2    Carlos    32  Barcelona\n",
       "2           3     Diana    28     Málaga\n",
       "3           4   Eduardo    40    Sevilla\n",
       "4           5  Fernanda    22     Murcia"
      ]
     },
     "execution_count": 210,
     "metadata": {},
     "output_type": "execute_result"
    }
   ],
   "source": [
    "# creamos dos dataframes\n",
    "df_customers = pd.DataFrame({\n",
    "    'id_cliente': [1, 2, 3, 4, 5],\n",
    "    'Nombre': ['Ana', 'Carlos', 'Diana', 'Eduardo', 'Fernanda'],\n",
    "    'Edad': [25, 32, 28, 40, 22],\n",
    "    'ciudad': ['Madrid', 'Barcelona', 'Málaga', 'Sevilla', 'Murcia']\n",
    "})\n",
    "df_products = pd.DataFrame({\n",
    "    'id_producto': [501, 502, 503, 504, 505, 506],\n",
    "    'id_cliente': [1, 2, 3, 3, 5,6],\n",
    "    'Producto': ['Laptop', 'Tablet', 'Smartphone', 'Monitor', 'Teclado', 'Mouse'],\n",
    "    'Cantidad': [1, 2, 1, 3, 1, 2],\n",
    "})\n",
    "df_customers"
   ]
  },
  {
   "cell_type": "code",
   "execution_count": 211,
   "id": "ad8ec980",
   "metadata": {},
   "outputs": [
    {
     "data": {
      "text/html": [
       "<div>\n",
       "<style scoped>\n",
       "    .dataframe tbody tr th:only-of-type {\n",
       "        vertical-align: middle;\n",
       "    }\n",
       "\n",
       "    .dataframe tbody tr th {\n",
       "        vertical-align: top;\n",
       "    }\n",
       "\n",
       "    .dataframe thead th {\n",
       "        text-align: right;\n",
       "    }\n",
       "</style>\n",
       "<table border=\"1\" class=\"dataframe\">\n",
       "  <thead>\n",
       "    <tr style=\"text-align: right;\">\n",
       "      <th></th>\n",
       "      <th>id_producto</th>\n",
       "      <th>id_cliente</th>\n",
       "      <th>Producto</th>\n",
       "      <th>Cantidad</th>\n",
       "    </tr>\n",
       "  </thead>\n",
       "  <tbody>\n",
       "    <tr>\n",
       "      <th>0</th>\n",
       "      <td>501</td>\n",
       "      <td>1</td>\n",
       "      <td>Laptop</td>\n",
       "      <td>1</td>\n",
       "    </tr>\n",
       "    <tr>\n",
       "      <th>1</th>\n",
       "      <td>502</td>\n",
       "      <td>2</td>\n",
       "      <td>Tablet</td>\n",
       "      <td>2</td>\n",
       "    </tr>\n",
       "    <tr>\n",
       "      <th>2</th>\n",
       "      <td>503</td>\n",
       "      <td>3</td>\n",
       "      <td>Smartphone</td>\n",
       "      <td>1</td>\n",
       "    </tr>\n",
       "    <tr>\n",
       "      <th>3</th>\n",
       "      <td>504</td>\n",
       "      <td>3</td>\n",
       "      <td>Monitor</td>\n",
       "      <td>3</td>\n",
       "    </tr>\n",
       "    <tr>\n",
       "      <th>4</th>\n",
       "      <td>505</td>\n",
       "      <td>5</td>\n",
       "      <td>Teclado</td>\n",
       "      <td>1</td>\n",
       "    </tr>\n",
       "    <tr>\n",
       "      <th>5</th>\n",
       "      <td>506</td>\n",
       "      <td>6</td>\n",
       "      <td>Mouse</td>\n",
       "      <td>2</td>\n",
       "    </tr>\n",
       "  </tbody>\n",
       "</table>\n",
       "</div>"
      ],
      "text/plain": [
       "   id_producto  id_cliente    Producto  Cantidad\n",
       "0          501           1      Laptop         1\n",
       "1          502           2      Tablet         2\n",
       "2          503           3  Smartphone         1\n",
       "3          504           3     Monitor         3\n",
       "4          505           5     Teclado         1\n",
       "5          506           6       Mouse         2"
      ]
     },
     "execution_count": 211,
     "metadata": {},
     "output_type": "execute_result"
    }
   ],
   "source": [
    "df_products"
   ]
  },
  {
   "cell_type": "markdown",
   "id": "2fadc12b",
   "metadata": {},
   "source": [
    "MERGE"
   ]
  },
  {
   "cell_type": "code",
   "execution_count": 212,
   "id": "3fa77045",
   "metadata": {},
   "outputs": [
    {
     "data": {
      "text/html": [
       "<div>\n",
       "<style scoped>\n",
       "    .dataframe tbody tr th:only-of-type {\n",
       "        vertical-align: middle;\n",
       "    }\n",
       "\n",
       "    .dataframe tbody tr th {\n",
       "        vertical-align: top;\n",
       "    }\n",
       "\n",
       "    .dataframe thead th {\n",
       "        text-align: right;\n",
       "    }\n",
       "</style>\n",
       "<table border=\"1\" class=\"dataframe\">\n",
       "  <thead>\n",
       "    <tr style=\"text-align: right;\">\n",
       "      <th></th>\n",
       "      <th>id_cliente</th>\n",
       "      <th>Nombre</th>\n",
       "      <th>Edad</th>\n",
       "      <th>ciudad</th>\n",
       "      <th>id_producto</th>\n",
       "      <th>Producto</th>\n",
       "      <th>Cantidad</th>\n",
       "    </tr>\n",
       "  </thead>\n",
       "  <tbody>\n",
       "    <tr>\n",
       "      <th>0</th>\n",
       "      <td>1</td>\n",
       "      <td>Ana</td>\n",
       "      <td>25</td>\n",
       "      <td>Madrid</td>\n",
       "      <td>501</td>\n",
       "      <td>Laptop</td>\n",
       "      <td>1</td>\n",
       "    </tr>\n",
       "    <tr>\n",
       "      <th>1</th>\n",
       "      <td>2</td>\n",
       "      <td>Carlos</td>\n",
       "      <td>32</td>\n",
       "      <td>Barcelona</td>\n",
       "      <td>502</td>\n",
       "      <td>Tablet</td>\n",
       "      <td>2</td>\n",
       "    </tr>\n",
       "    <tr>\n",
       "      <th>2</th>\n",
       "      <td>3</td>\n",
       "      <td>Diana</td>\n",
       "      <td>28</td>\n",
       "      <td>Málaga</td>\n",
       "      <td>503</td>\n",
       "      <td>Smartphone</td>\n",
       "      <td>1</td>\n",
       "    </tr>\n",
       "    <tr>\n",
       "      <th>3</th>\n",
       "      <td>3</td>\n",
       "      <td>Diana</td>\n",
       "      <td>28</td>\n",
       "      <td>Málaga</td>\n",
       "      <td>504</td>\n",
       "      <td>Monitor</td>\n",
       "      <td>3</td>\n",
       "    </tr>\n",
       "    <tr>\n",
       "      <th>4</th>\n",
       "      <td>5</td>\n",
       "      <td>Fernanda</td>\n",
       "      <td>22</td>\n",
       "      <td>Murcia</td>\n",
       "      <td>505</td>\n",
       "      <td>Teclado</td>\n",
       "      <td>1</td>\n",
       "    </tr>\n",
       "  </tbody>\n",
       "</table>\n",
       "</div>"
      ],
      "text/plain": [
       "   id_cliente    Nombre  Edad     ciudad  id_producto    Producto  Cantidad\n",
       "0           1       Ana    25     Madrid          501      Laptop         1\n",
       "1           2    Carlos    32  Barcelona          502      Tablet         2\n",
       "2           3     Diana    28     Málaga          503  Smartphone         1\n",
       "3           3     Diana    28     Málaga          504     Monitor         3\n",
       "4           5  Fernanda    22     Murcia          505     Teclado         1"
      ]
     },
     "execution_count": 212,
     "metadata": {},
     "output_type": "execute_result"
    }
   ],
   "source": [
    "# usando merge para unir los dataframes\n",
    "# inner join\n",
    "df_inner_join = pd.merge(df_customers, df_products, on='id_cliente')  \n",
    "df_inner_join  "
   ]
  },
  {
   "cell_type": "code",
   "execution_count": 213,
   "id": "267425f5",
   "metadata": {},
   "outputs": [
    {
     "data": {
      "text/html": [
       "<div>\n",
       "<style scoped>\n",
       "    .dataframe tbody tr th:only-of-type {\n",
       "        vertical-align: middle;\n",
       "    }\n",
       "\n",
       "    .dataframe tbody tr th {\n",
       "        vertical-align: top;\n",
       "    }\n",
       "\n",
       "    .dataframe thead th {\n",
       "        text-align: right;\n",
       "    }\n",
       "</style>\n",
       "<table border=\"1\" class=\"dataframe\">\n",
       "  <thead>\n",
       "    <tr style=\"text-align: right;\">\n",
       "      <th></th>\n",
       "      <th>id_cliente</th>\n",
       "      <th>Nombre</th>\n",
       "      <th>Edad</th>\n",
       "      <th>ciudad</th>\n",
       "      <th>id_producto</th>\n",
       "      <th>Producto</th>\n",
       "      <th>Cantidad</th>\n",
       "    </tr>\n",
       "  </thead>\n",
       "  <tbody>\n",
       "    <tr>\n",
       "      <th>0</th>\n",
       "      <td>1</td>\n",
       "      <td>Ana</td>\n",
       "      <td>25</td>\n",
       "      <td>Madrid</td>\n",
       "      <td>501.0</td>\n",
       "      <td>Laptop</td>\n",
       "      <td>1.0</td>\n",
       "    </tr>\n",
       "    <tr>\n",
       "      <th>1</th>\n",
       "      <td>2</td>\n",
       "      <td>Carlos</td>\n",
       "      <td>32</td>\n",
       "      <td>Barcelona</td>\n",
       "      <td>502.0</td>\n",
       "      <td>Tablet</td>\n",
       "      <td>2.0</td>\n",
       "    </tr>\n",
       "    <tr>\n",
       "      <th>2</th>\n",
       "      <td>3</td>\n",
       "      <td>Diana</td>\n",
       "      <td>28</td>\n",
       "      <td>Málaga</td>\n",
       "      <td>503.0</td>\n",
       "      <td>Smartphone</td>\n",
       "      <td>1.0</td>\n",
       "    </tr>\n",
       "    <tr>\n",
       "      <th>3</th>\n",
       "      <td>3</td>\n",
       "      <td>Diana</td>\n",
       "      <td>28</td>\n",
       "      <td>Málaga</td>\n",
       "      <td>504.0</td>\n",
       "      <td>Monitor</td>\n",
       "      <td>3.0</td>\n",
       "    </tr>\n",
       "    <tr>\n",
       "      <th>4</th>\n",
       "      <td>4</td>\n",
       "      <td>Eduardo</td>\n",
       "      <td>40</td>\n",
       "      <td>Sevilla</td>\n",
       "      <td>NaN</td>\n",
       "      <td>NaN</td>\n",
       "      <td>NaN</td>\n",
       "    </tr>\n",
       "    <tr>\n",
       "      <th>5</th>\n",
       "      <td>5</td>\n",
       "      <td>Fernanda</td>\n",
       "      <td>22</td>\n",
       "      <td>Murcia</td>\n",
       "      <td>505.0</td>\n",
       "      <td>Teclado</td>\n",
       "      <td>1.0</td>\n",
       "    </tr>\n",
       "  </tbody>\n",
       "</table>\n",
       "</div>"
      ],
      "text/plain": [
       "   id_cliente    Nombre  Edad     ciudad  id_producto    Producto  Cantidad\n",
       "0           1       Ana    25     Madrid        501.0      Laptop       1.0\n",
       "1           2    Carlos    32  Barcelona        502.0      Tablet       2.0\n",
       "2           3     Diana    28     Málaga        503.0  Smartphone       1.0\n",
       "3           3     Diana    28     Málaga        504.0     Monitor       3.0\n",
       "4           4   Eduardo    40    Sevilla          NaN         NaN       NaN\n",
       "5           5  Fernanda    22     Murcia        505.0     Teclado       1.0"
      ]
     },
     "execution_count": 213,
     "metadata": {},
     "output_type": "execute_result"
    }
   ],
   "source": [
    "df_left_join = pd.merge(df_customers, df_products, on='id_cliente', how='left')  \n",
    "df_left_join"
   ]
  },
  {
   "cell_type": "code",
   "execution_count": 214,
   "id": "cee80c99",
   "metadata": {},
   "outputs": [
    {
     "data": {
      "text/html": [
       "<div>\n",
       "<style scoped>\n",
       "    .dataframe tbody tr th:only-of-type {\n",
       "        vertical-align: middle;\n",
       "    }\n",
       "\n",
       "    .dataframe tbody tr th {\n",
       "        vertical-align: top;\n",
       "    }\n",
       "\n",
       "    .dataframe thead th {\n",
       "        text-align: right;\n",
       "    }\n",
       "</style>\n",
       "<table border=\"1\" class=\"dataframe\">\n",
       "  <thead>\n",
       "    <tr style=\"text-align: right;\">\n",
       "      <th></th>\n",
       "      <th>id_cliente</th>\n",
       "      <th>Nombre</th>\n",
       "      <th>Edad</th>\n",
       "      <th>ciudad</th>\n",
       "      <th>id_producto</th>\n",
       "      <th>Producto</th>\n",
       "      <th>Cantidad</th>\n",
       "    </tr>\n",
       "  </thead>\n",
       "  <tbody>\n",
       "    <tr>\n",
       "      <th>0</th>\n",
       "      <td>1</td>\n",
       "      <td>Ana</td>\n",
       "      <td>25.0</td>\n",
       "      <td>Madrid</td>\n",
       "      <td>501</td>\n",
       "      <td>Laptop</td>\n",
       "      <td>1</td>\n",
       "    </tr>\n",
       "    <tr>\n",
       "      <th>1</th>\n",
       "      <td>2</td>\n",
       "      <td>Carlos</td>\n",
       "      <td>32.0</td>\n",
       "      <td>Barcelona</td>\n",
       "      <td>502</td>\n",
       "      <td>Tablet</td>\n",
       "      <td>2</td>\n",
       "    </tr>\n",
       "    <tr>\n",
       "      <th>2</th>\n",
       "      <td>3</td>\n",
       "      <td>Diana</td>\n",
       "      <td>28.0</td>\n",
       "      <td>Málaga</td>\n",
       "      <td>503</td>\n",
       "      <td>Smartphone</td>\n",
       "      <td>1</td>\n",
       "    </tr>\n",
       "    <tr>\n",
       "      <th>3</th>\n",
       "      <td>3</td>\n",
       "      <td>Diana</td>\n",
       "      <td>28.0</td>\n",
       "      <td>Málaga</td>\n",
       "      <td>504</td>\n",
       "      <td>Monitor</td>\n",
       "      <td>3</td>\n",
       "    </tr>\n",
       "    <tr>\n",
       "      <th>4</th>\n",
       "      <td>5</td>\n",
       "      <td>Fernanda</td>\n",
       "      <td>22.0</td>\n",
       "      <td>Murcia</td>\n",
       "      <td>505</td>\n",
       "      <td>Teclado</td>\n",
       "      <td>1</td>\n",
       "    </tr>\n",
       "    <tr>\n",
       "      <th>5</th>\n",
       "      <td>6</td>\n",
       "      <td>NaN</td>\n",
       "      <td>NaN</td>\n",
       "      <td>NaN</td>\n",
       "      <td>506</td>\n",
       "      <td>Mouse</td>\n",
       "      <td>2</td>\n",
       "    </tr>\n",
       "  </tbody>\n",
       "</table>\n",
       "</div>"
      ],
      "text/plain": [
       "   id_cliente    Nombre  Edad     ciudad  id_producto    Producto  Cantidad\n",
       "0           1       Ana  25.0     Madrid          501      Laptop         1\n",
       "1           2    Carlos  32.0  Barcelona          502      Tablet         2\n",
       "2           3     Diana  28.0     Málaga          503  Smartphone         1\n",
       "3           3     Diana  28.0     Málaga          504     Monitor         3\n",
       "4           5  Fernanda  22.0     Murcia          505     Teclado         1\n",
       "5           6       NaN   NaN        NaN          506       Mouse         2"
      ]
     },
     "execution_count": 214,
     "metadata": {},
     "output_type": "execute_result"
    }
   ],
   "source": [
    "df_right_join = pd.merge(df_customers, df_products, on='id_cliente', how='right')   \n",
    "df_right_join"
   ]
  },
  {
   "cell_type": "code",
   "execution_count": 216,
   "id": "e6d840c5",
   "metadata": {},
   "outputs": [
    {
     "data": {
      "text/html": [
       "<div>\n",
       "<style scoped>\n",
       "    .dataframe tbody tr th:only-of-type {\n",
       "        vertical-align: middle;\n",
       "    }\n",
       "\n",
       "    .dataframe tbody tr th {\n",
       "        vertical-align: top;\n",
       "    }\n",
       "\n",
       "    .dataframe thead th {\n",
       "        text-align: right;\n",
       "    }\n",
       "</style>\n",
       "<table border=\"1\" class=\"dataframe\">\n",
       "  <thead>\n",
       "    <tr style=\"text-align: right;\">\n",
       "      <th></th>\n",
       "      <th>id_cliente</th>\n",
       "      <th>Nombre</th>\n",
       "      <th>Edad</th>\n",
       "      <th>ciudad</th>\n",
       "      <th>id_producto</th>\n",
       "      <th>Producto</th>\n",
       "      <th>Cantidad</th>\n",
       "    </tr>\n",
       "  </thead>\n",
       "  <tbody>\n",
       "    <tr>\n",
       "      <th>0</th>\n",
       "      <td>1</td>\n",
       "      <td>Ana</td>\n",
       "      <td>25.0</td>\n",
       "      <td>Madrid</td>\n",
       "      <td>501.0</td>\n",
       "      <td>Laptop</td>\n",
       "      <td>1.0</td>\n",
       "    </tr>\n",
       "    <tr>\n",
       "      <th>1</th>\n",
       "      <td>2</td>\n",
       "      <td>Carlos</td>\n",
       "      <td>32.0</td>\n",
       "      <td>Barcelona</td>\n",
       "      <td>502.0</td>\n",
       "      <td>Tablet</td>\n",
       "      <td>2.0</td>\n",
       "    </tr>\n",
       "    <tr>\n",
       "      <th>2</th>\n",
       "      <td>3</td>\n",
       "      <td>Diana</td>\n",
       "      <td>28.0</td>\n",
       "      <td>Málaga</td>\n",
       "      <td>503.0</td>\n",
       "      <td>Smartphone</td>\n",
       "      <td>1.0</td>\n",
       "    </tr>\n",
       "    <tr>\n",
       "      <th>3</th>\n",
       "      <td>3</td>\n",
       "      <td>Diana</td>\n",
       "      <td>28.0</td>\n",
       "      <td>Málaga</td>\n",
       "      <td>504.0</td>\n",
       "      <td>Monitor</td>\n",
       "      <td>3.0</td>\n",
       "    </tr>\n",
       "    <tr>\n",
       "      <th>4</th>\n",
       "      <td>4</td>\n",
       "      <td>Eduardo</td>\n",
       "      <td>40.0</td>\n",
       "      <td>Sevilla</td>\n",
       "      <td>NaN</td>\n",
       "      <td>NaN</td>\n",
       "      <td>NaN</td>\n",
       "    </tr>\n",
       "    <tr>\n",
       "      <th>5</th>\n",
       "      <td>5</td>\n",
       "      <td>Fernanda</td>\n",
       "      <td>22.0</td>\n",
       "      <td>Murcia</td>\n",
       "      <td>505.0</td>\n",
       "      <td>Teclado</td>\n",
       "      <td>1.0</td>\n",
       "    </tr>\n",
       "    <tr>\n",
       "      <th>6</th>\n",
       "      <td>6</td>\n",
       "      <td>NaN</td>\n",
       "      <td>NaN</td>\n",
       "      <td>NaN</td>\n",
       "      <td>506.0</td>\n",
       "      <td>Mouse</td>\n",
       "      <td>2.0</td>\n",
       "    </tr>\n",
       "  </tbody>\n",
       "</table>\n",
       "</div>"
      ],
      "text/plain": [
       "   id_cliente    Nombre  Edad     ciudad  id_producto    Producto  Cantidad\n",
       "0           1       Ana  25.0     Madrid        501.0      Laptop       1.0\n",
       "1           2    Carlos  32.0  Barcelona        502.0      Tablet       2.0\n",
       "2           3     Diana  28.0     Málaga        503.0  Smartphone       1.0\n",
       "3           3     Diana  28.0     Málaga        504.0     Monitor       3.0\n",
       "4           4   Eduardo  40.0    Sevilla          NaN         NaN       NaN\n",
       "5           5  Fernanda  22.0     Murcia        505.0     Teclado       1.0\n",
       "6           6       NaN   NaN        NaN        506.0       Mouse       2.0"
      ]
     },
     "execution_count": 216,
     "metadata": {},
     "output_type": "execute_result"
    }
   ],
   "source": [
    "df_outer_join = pd.merge(df_customers, df_products, on='id_cliente', how='outer')  \n",
    "df_outer_join"
   ]
  },
  {
   "cell_type": "code",
   "execution_count": null,
   "id": "d88a82a8",
   "metadata": {},
   "outputs": [],
   "source": [
    "import pandas as pd\n",
    "from datetime import datetime \n",
    "import numpy as np\n",
    "\n",
    "df_date_str  = pd.DataFrame({\n",
    "    'Fecha': ['2020-01-15', '2019-03-22',\n",
    "              '2021-06-10', '2018-11-05', \n",
    "              '2022-02-28'],\n",
    "    'Hora': ['10:30:05', '12:45:50', \n",
    "             '14:15:23', '09:00:32', \n",
    "             '16:30:57'],\n",
    "    'Fecha_hora': ['2020-01-15 10:30:05', \n",
    "                   '2019-03-22 12:45:50',\n",
    "                   '2021-06-10 14:15:23',\n",
    "                   '2018-11-05 09:00:32', \n",
    "                   '2022-02-28 16:30:57']   \n",
    "})\n",
    "df_date_str\n",
    "\n",
    "# convertir fecha strigs a datetime\n",
    "df_date_str['Fecha_date'] = pd.to_datetime(df_date_str['Fecha'])  # Convertir fecha a datetime\n",
    "df_date_str['Hora_date'] = pd.to_datetime(df_date_str['Hora'], format='%H:%M:%S')  # Convertir hora a datetime\n",
    "df_date_str['Fecha_hora_date'] = pd.to_datetime(df_date_str['Fecha_hora'])  # Convertir fecha y hora a datetime\n",
    "df_date_str.dtypes  # Verificar el tipo de dato de cada columna\n",
    "\n",
    "df_date_str# Verificar la columna de fechas convertidas a datetime\n",
    "df_date_str \n",
    "df_date = df_date_str.copy()  # Copiar el DataFrame original para no modificarlo\n",
    "df_date \n",
    "\n",
    "# adquirir componentes de la fecha\n",
    "df_date['Fecha_date'].dt.year  # Extraer el año de la fecha\n",
    "\n",
    "df_date['Fecha_date'].dt.month  # Extraer el mes de la fecha\n",
    "\n",
    "df_date['Hora_date'].dt.hour  # Extraer la hora de la fecha\n",
    "\n",
    "df_date['Fecha_date'].dt.day # Extraer el dia de la fecha\n",
    "\n",
    "df_date['Fecha_date'].dt.day_name()  # Extraer el nombre del dia de la fecha\n",
    "\n",
    "# manipular horas   \n",
    "df_date['Hora_date'].dt.hour  # Extraer la hora de la fecha\n",
    "\n",
    "df_date['Hora_date'].dt.minute  # Extraer el minuto de la fecha\n",
    "\n",
    "df_date['Hora_date'].dt.second  # Extraer el segundo de la fecha\n",
    "\n",
    "# sumar dias a una fecha\n",
    "df_date['Fecha_date'] + pd.Timedelta(days=5)  # Sumar 5 dias a la fecha\n",
    "\n",
    "# diferencias entre fechas\n",
    "\n",
    "date_start =  df_date['Fecha_hora_date'].min()\n",
    "date_end = df_date['Fecha_hora_date'].max()\n",
    "date_dif = date_end - date_start\n",
    "date_dif\n",
    "\n",
    "# Creacion de un rango de fechas\n",
    "date_range = pd.date_range(start='2025-01-01',periods= 12, freq='MS')  # Rango de fechas\n",
    "date_range\n",
    "\n",
    "# series temporales\n",
    "np.random.seed(40)  # Semilla para reproducibilidad\n",
    "fechas_dias = pd.date_range(start='2025-01-01', end='2025-03-31', freq='D')  # Rango de fechas\n",
    "valores_dias = np.random.randint(10, 100, size=len(fechas_dias))  # Valores aleatorios\n",
    "s_dias = pd.Series(valores_dias, index=fechas_dias)  # Serie temporal\n",
    "s_dias.head()  # Mostrar los primeros 5 valores de la serie temporal\n",
    "\n",
    "# Agrupar por mes y sumar los valores\n",
    "s_dias.resample('MS').sum()  # resample('MS')  \n",
    "\n",
    "# Agrupar por mes y promediar los valores\n",
    "s_dias.resample('MS').mean()\n",
    "\n",
    "#COMBINACION DE DATASETS\n",
    "\n",
    "# creamos dos dataframes\n",
    "df_customers = pd.DataFrame({\n",
    "    'id_cliente': [1, 2, 3, 4, 5],\n",
    "    'Nombre': ['Ana', 'Carlos', 'Diana', 'Eduardo', 'Fernanda'],\n",
    "    'Edad': [25, 32, 28, 40, 22],\n",
    "    'ciudad': ['Madrid', 'Barcelona', 'Málaga', 'Sevilla', 'Murcia']\n",
    "})\n",
    "df_products = pd.DataFrame({\n",
    "    'id_producto': [501, 502, 503, 504, 505, 506],\n",
    "    'id_cliente': [1, 2, 3, 3, 5,6],\n",
    "    'Producto': ['Laptop', 'Tablet', 'Smartphone', 'Monitor', 'Teclado', 'Mouse'],\n",
    "    'Cantidad': [1, 2, 1, 3, 1, 2],\n",
    "})\n",
    "df_customers\n",
    "\n",
    "df_products\n",
    "\n",
    "# usando merge para unir los dataframes\n",
    "# inner join\n",
    "df_inner_join = pd.merge(df_customers, df_products, on='id_cliente')\n",
    "df_inner_join\n",
    "\n",
    "#left join\n",
    "df_left_join = pd.merge(df_customers, df_products, on='id_cliente', how='left')\n",
    "df_left_join\n",
    "\n",
    "#right join\n",
    "df_right_join = pd.merge(df_customers, df_products, on='id_cliente', how='right')\n",
    "df_right_join\n",
    "\n",
    "#outer join\n",
    "df_outer_join = pd.merge(df_customers, df_products, on='id_cliente', how='outer')\n",
    "df_outer_join\n"
   ]
  }
 ],
 "metadata": {
  "kernelspec": {
   "display_name": "p_venv",
   "language": "python",
   "name": "python3"
  },
  "language_info": {
   "codemirror_mode": {
    "name": "ipython",
    "version": 3
   },
   "file_extension": ".py",
   "mimetype": "text/x-python",
   "name": "python",
   "nbconvert_exporter": "python",
   "pygments_lexer": "ipython3",
   "version": "3.12.2"
  }
 },
 "nbformat": 4,
 "nbformat_minor": 5
}
